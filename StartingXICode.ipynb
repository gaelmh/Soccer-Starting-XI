{
 "cells": [
  {
   "cell_type": "markdown",
   "id": "0d577cbb-d3fc-4d10-ab2d-e2cc1aa9c2dd",
   "metadata": {},
   "source": [
    "# European Soccer Leagues Player in Starting XI Prediction"
   ]
  },
  {
   "cell_type": "markdown",
   "id": "2dfba2e5-2bf2-4607-814a-2834822648f7",
   "metadata": {},
   "source": [
    "## Start Spark Session"
   ]
  },
  {
   "cell_type": "code",
   "execution_count": 1,
   "id": "af3adad0-fe8d-4512-a3a0-6985534dff16",
   "metadata": {
    "execution": {
     "iopub.execute_input": "2024-11-18T08:32:14.875378Z",
     "iopub.status.busy": "2024-11-18T08:32:14.874819Z",
     "iopub.status.idle": "2024-11-18T08:33:55.812969Z",
     "shell.execute_reply": "2024-11-18T08:33:55.811731Z",
     "shell.execute_reply.started": "2024-11-18T08:32:14.875343Z"
    },
    "tags": []
   },
   "outputs": [
    {
     "data": {
      "application/vnd.jupyter.widget-view+json": {
       "model_id": "5e38eac065874d279eb9f09f749a025f",
       "version_major": 2,
       "version_minor": 0
      },
      "text/plain": [
       "VBox()"
      ]
     },
     "metadata": {},
     "output_type": "display_data"
    },
    {
     "name": "stdout",
     "output_type": "stream",
     "text": [
      "Starting Spark application\n"
     ]
    },
    {
     "data": {
      "text/html": [
       "<table>\n<tbody><tr><th>ID</th><th>YARN Application ID</th><th>Kind</th><th>State</th><th>Spark UI</th><th>Driver log</th><th>User</th><th>Current session?</th></tr><tr><td>0</td><td>application_1731918617409_0001</td><td>pyspark</td><td>idle</td><td><a target=\"_blank\" href=\"http://ip-172-31-47-1.ec2.internal:20888/proxy/application_1731918617409_0001/\" class=\"emr-proxy-link j-2ZIUNDKAI7RS6 application_1731918617409_0001\" emr-resource=\"j-2ZIUNDKAI7RS6\n\" application-id=\"application_1731918617409_0001\">Link</a></td><td><a target=\"_blank\" href=\"http://ip-172-31-35-60.ec2.internal:8042/node/containerlogs/container_1731918617409_0001_01_000001/livy\">Link</a></td><td>None</td><td>✔</td></tr></tbody></table>"
      ],
      "text/plain": [
       "<IPython.core.display.HTML object>"
      ]
     },
     "metadata": {},
     "output_type": "display_data"
    },
    {
     "data": {
      "application/vnd.jupyter.widget-view+json": {
       "model_id": "",
       "version_major": 2,
       "version_minor": 0
      },
      "text/plain": [
       "FloatProgress(value=0.0, bar_style='info', description='Progress:', layout=Layout(height='25px', width='50%'),…"
      ]
     },
     "metadata": {},
     "output_type": "display_data"
    },
    {
     "name": "stdout",
     "output_type": "stream",
     "text": [
      "SparkSession available as 'spark'.\n"
     ]
    },
    {
     "data": {
      "application/vnd.jupyter.widget-view+json": {
       "model_id": "",
       "version_major": 2,
       "version_minor": 0
      },
      "text/plain": [
       "FloatProgress(value=0.0, bar_style='info', description='Progress:', layout=Layout(height='25px', width='50%'),…"
      ]
     },
     "metadata": {},
     "output_type": "display_data"
    },
    {
     "name": "stdout",
     "output_type": "stream",
     "text": [
      "You are working with 4 core(s) on appid:  application_1731918617409_0001\n",
      "<pyspark.sql.session.SparkSession object at 0x7f9401c05dc0>"
     ]
    }
   ],
   "source": [
    "import pyspark\n",
    "from pyspark.sql import SparkSession\n",
    "\n",
    "spark = SparkSession.builder.appName('appTest').getOrCreate()\n",
    "spark._jsc.sc().getExecutorMemoryStatus().keySet().size()\n",
    "cores = spark._jsc.sc().getExecutorMemoryStatus().keySet().size()\n",
    "appid = spark._jsc.sc().applicationId()\n",
    "print(\"You are working with\", cores, \"core(s) on appid: \", appid)\n",
    "spark"
   ]
  },
  {
   "cell_type": "markdown",
   "id": "20e2e009-8f61-4efe-9ba1-d600e4a29837",
   "metadata": {},
   "source": [
    "## Import Libraries"
   ]
  },
  {
   "cell_type": "code",
   "execution_count": null,
   "id": "5f193228-ee3b-4d3d-9535-045edb774b61",
   "metadata": {
    "tags": []
   },
   "outputs": [],
   "source": [
    "sc.install_pypi_package(\"pandas\")\n",
    "import pandas as pd"
   ]
  },
  {
   "cell_type": "code",
   "execution_count": null,
   "id": "b2815f5f-6cee-4f57-87cd-7b82bba2a13a",
   "metadata": {
    "tags": []
   },
   "outputs": [],
   "source": [
    "sc.install_pypi_package(\"boto3\")\n",
    "import boto3"
   ]
  },
  {
   "cell_type": "code",
   "execution_count": null,
   "id": "0cf6a819-e568-436f-a20e-a7a06257a052",
   "metadata": {
    "tags": []
   },
   "outputs": [],
   "source": [
    "sc.install_pypi_package(\"matplotlib\")\n",
    "import matplotlib.pyplot as plt"
   ]
  },
  {
   "cell_type": "code",
   "execution_count": null,
   "id": "2f176c2b-9947-4f53-832f-527a1b872f5b",
   "metadata": {
    "tags": []
   },
   "outputs": [],
   "source": [
    "sc.install_pypi_package(\"seaborn\")\n",
    "import seaborn as sns"
   ]
  },
  {
   "cell_type": "code",
   "execution_count": null,
   "id": "a212a708-3608-4ced-a1d8-89a0665961fe",
   "metadata": {
    "tags": []
   },
   "outputs": [],
   "source": [
    "sc.install_pypi_package(\"pyarrow\")\n",
    "import pyarrow as pa\n",
    "import pyarrow.parquet as pq"
   ]
  },
  {
   "cell_type": "code",
   "execution_count": null,
   "id": "579af30a-5fa7-443e-8976-fd1ccd8ba9fa",
   "metadata": {
    "tags": []
   },
   "outputs": [],
   "source": [
    "sc.install_pypi_package(\"fsspec\")"
   ]
  },
  {
   "cell_type": "code",
   "execution_count": null,
   "id": "592d6f30-8a41-4142-9c5a-84eb47bb6918",
   "metadata": {
    "tags": []
   },
   "outputs": [],
   "source": [
    "sc.install_pypi_package(\"sklearn\")\n",
    "from sklearn.model_selection import train_test_split, cross_val_score\n",
    "from sklearn.ensemble import RandomForestClassifier\n",
    "from sklearn.preprocessing import LabelEncoder\n",
    "from sklearn.metrics import classification_report, confusion_matrix"
   ]
  },
  {
   "cell_type": "code",
   "execution_count": null,
   "id": "81a5f4e0-dac6-4c99-a87c-17b65497e59a",
   "metadata": {
    "tags": []
   },
   "outputs": [],
   "source": [
    "sc.install_pypi_package(\"imblearn\")\n",
    "from imblearn.over_sampling import SMOTE"
   ]
  },
  {
   "cell_type": "code",
   "execution_count": 10,
   "id": "56dd4bfb-17f9-407f-9b42-f7d31baa139f",
   "metadata": {
    "execution": {
     "iopub.execute_input": "2024-11-18T08:36:23.224573Z",
     "iopub.status.busy": "2024-11-18T08:36:23.224313Z",
     "iopub.status.idle": "2024-11-18T08:36:23.307159Z",
     "shell.execute_reply": "2024-11-18T08:36:23.306600Z",
     "shell.execute_reply.started": "2024-11-18T08:36:23.224544Z"
    },
    "tags": []
   },
   "outputs": [
    {
     "data": {
      "application/vnd.jupyter.widget-view+json": {
       "model_id": "e04618686cd5477d9e90261b1c9329c8",
       "version_major": 2,
       "version_minor": 0
      },
      "text/plain": [
       "VBox()"
      ]
     },
     "metadata": {},
     "output_type": "display_data"
    },
    {
     "data": {
      "application/vnd.jupyter.widget-view+json": {
       "model_id": "",
       "version_major": 2,
       "version_minor": 0
      },
      "text/plain": [
       "FloatProgress(value=0.0, bar_style='info', description='Progress:', layout=Layout(height='25px', width='50%'),…"
      ]
     },
     "metadata": {},
     "output_type": "display_data"
    }
   ],
   "source": [
    "from pyspark.sql.functions import col, isnan, when, count, substring, when, concat, lit, year, month, dayofmonth, to_date, avg, coalesce\n",
    "from pyspark.sql.types import StructType, StructField, StringType, LongType, IntegerType, DoubleType, BooleanType, DateType, FloatType\n",
    "from pyspark.sql import Window\n",
    "\n",
    "import io\n",
    "from io import BytesIO\n",
    "\n",
    "import numpy as np\n",
    "\n",
    "import re"
   ]
  },
  {
   "cell_type": "markdown",
   "id": "180aed34-1dae-4173-899f-25d3cab9df7b",
   "metadata": {},
   "source": [
    "## Load & Clean Data"
   ]
  },
  {
   "cell_type": "code",
   "execution_count": 70,
   "id": "2efba312-1d75-4cb3-8668-0a06b63715e2",
   "metadata": {
    "execution": {
     "iopub.execute_input": "2024-11-18T02:33:04.314986Z",
     "iopub.status.busy": "2024-11-18T02:33:04.314738Z",
     "iopub.status.idle": "2024-11-18T02:33:04.378733Z",
     "shell.execute_reply": "2024-11-18T02:33:04.377833Z",
     "shell.execute_reply.started": "2024-11-18T02:33:04.314959Z"
    },
    "tags": []
   },
   "outputs": [
    {
     "data": {
      "application/vnd.jupyter.widget-view+json": {
       "model_id": "81d452f3884147f98beb6e1b32e54f7b",
       "version_major": 2,
       "version_minor": 0
      },
      "text/plain": [
       "VBox()"
      ]
     },
     "metadata": {},
     "output_type": "display_data"
    },
    {
     "data": {
      "application/vnd.jupyter.widget-view+json": {
       "model_id": "",
       "version_major": 2,
       "version_minor": 0
      },
      "text/plain": [
       "FloatProgress(value=0.0, bar_style='info', description='Progress:', layout=Layout(height='25px', width='50%'),…"
      ]
     },
     "metadata": {},
     "output_type": "display_data"
    }
   ],
   "source": [
    "# Path\n",
    "path = \"s3://final-project-gael-mota/\""
   ]
  },
  {
   "cell_type": "markdown",
   "id": "8eaa44d0-6402-49d5-ac5e-4b6d5897d185",
   "metadata": {
    "execution": {
     "iopub.execute_input": "2024-11-16T21:04:26.971356Z",
     "iopub.status.busy": "2024-11-16T21:04:26.971099Z",
     "iopub.status.idle": "2024-11-16T21:04:27.026687Z",
     "shell.execute_reply": "2024-11-16T21:04:27.025041Z",
     "shell.execute_reply.started": "2024-11-16T21:04:26.971309Z"
    },
    "tags": []
   },
   "source": [
    "### Appearances Data"
   ]
  },
  {
   "cell_type": "code",
   "execution_count": 71,
   "id": "6def71a5-4af6-4622-bab3-76e05f79a53a",
   "metadata": {
    "execution": {
     "iopub.execute_input": "2024-11-18T02:33:06.068512Z",
     "iopub.status.busy": "2024-11-18T02:33:06.068270Z",
     "iopub.status.idle": "2024-11-18T02:33:17.388819Z",
     "shell.execute_reply": "2024-11-18T02:33:17.388062Z",
     "shell.execute_reply.started": "2024-11-18T02:33:06.068484Z"
    },
    "tags": []
   },
   "outputs": [
    {
     "data": {
      "application/vnd.jupyter.widget-view+json": {
       "model_id": "f45bcb6e5cfe40ae8d9ffc66e1d1b3e2",
       "version_major": 2,
       "version_minor": 0
      },
      "text/plain": [
       "VBox()"
      ]
     },
     "metadata": {},
     "output_type": "display_data"
    },
    {
     "data": {
      "application/vnd.jupyter.widget-view+json": {
       "model_id": "",
       "version_major": 2,
       "version_minor": 0
      },
      "text/plain": [
       "FloatProgress(value=0.0, bar_style='info', description='Progress:', layout=Layout(height='25px', width='50%'),…"
      ]
     },
     "metadata": {},
     "output_type": "display_data"
    },
    {
     "name": "stdout",
     "output_type": "stream",
     "text": [
      "root\n",
      " |-- appearance_id: string (nullable = true)\n",
      " |-- game_id: string (nullable = true)\n",
      " |-- player_id: string (nullable = true)\n",
      " |-- player_club_id: string (nullable = true)\n",
      " |-- player_current_club_id: string (nullable = true)\n",
      " |-- appearance_date: string (nullable = true)\n",
      " |-- player_name: string (nullable = true)\n",
      " |-- competition_id: string (nullable = true)\n",
      " |-- yellow_cards: string (nullable = true)\n",
      " |-- red_cards: string (nullable = true)\n",
      " |-- goals: string (nullable = true)\n",
      " |-- assists: string (nullable = true)\n",
      " |-- minutes_played: string (nullable = true)"
     ]
    }
   ],
   "source": [
    "# load Data\n",
    "appearances = spark.read.csv(path+'datasets/appearances.csv', sep=',', header= True)\n",
    "\n",
    "# Rename Variables\n",
    "appearances = appearances.withColumnRenamed(\"date\", \"appearance_date\")\n",
    "         \n",
    "# Print Schema\n",
    "appearances.printSchema()\n",
    "# appearances.show(10)"
   ]
  },
  {
   "cell_type": "markdown",
   "id": "0fa503a3-8723-40d8-908e-4c6a28c3370b",
   "metadata": {},
   "source": [
    "### Club Games Data"
   ]
  },
  {
   "cell_type": "code",
   "execution_count": 72,
   "id": "e5ae28ff-218e-4746-b1d5-01d4623e8eb8",
   "metadata": {
    "execution": {
     "iopub.execute_input": "2024-11-18T02:33:20.742332Z",
     "iopub.status.busy": "2024-11-18T02:33:20.742070Z",
     "iopub.status.idle": "2024-11-18T02:33:21.517298Z",
     "shell.execute_reply": "2024-11-18T02:33:21.516595Z",
     "shell.execute_reply.started": "2024-11-18T02:33:20.742301Z"
    },
    "tags": []
   },
   "outputs": [
    {
     "data": {
      "application/vnd.jupyter.widget-view+json": {
       "model_id": "bcadc96648f3427cbd0aeb4d41e33ee8",
       "version_major": 2,
       "version_minor": 0
      },
      "text/plain": [
       "VBox()"
      ]
     },
     "metadata": {},
     "output_type": "display_data"
    },
    {
     "data": {
      "application/vnd.jupyter.widget-view+json": {
       "model_id": "",
       "version_major": 2,
       "version_minor": 0
      },
      "text/plain": [
       "FloatProgress(value=0.0, bar_style='info', description='Progress:', layout=Layout(height='25px', width='50%'),…"
      ]
     },
     "metadata": {},
     "output_type": "display_data"
    },
    {
     "name": "stdout",
     "output_type": "stream",
     "text": [
      "root\n",
      " |-- game_id: string (nullable = true)\n",
      " |-- club_id: string (nullable = true)\n",
      " |-- goals_scored: string (nullable = true)\n",
      " |-- home_team_standings: string (nullable = true)\n",
      " |-- own_manager_name: string (nullable = true)\n",
      " |-- opponent_id: string (nullable = true)\n",
      " |-- goals_conceded: string (nullable = true)\n",
      " |-- away_team_standings: string (nullable = true)\n",
      " |-- opponent_manager_name: string (nullable = true)\n",
      " |-- hosting: string (nullable = true)\n",
      " |-- is_win: string (nullable = true)"
     ]
    }
   ],
   "source": [
    "# Load Data\n",
    "club_games = spark.read.csv(path+'datasets/club_games.csv', sep=',', header= True)\n",
    "\n",
    "# Rename Variables\n",
    "club_games = club_games.withColumnRenamed(\"own_position\", \"home_team_standings\").withColumnRenamed(\"opponent_position\", \"away_team_standings\").withColumnRenamed(\"own_goals\", \"goals_scored\").withColumnRenamed(\"opponent_goals\", \"goals_conceded\")\n",
    "        \n",
    "# Print Schema\n",
    "club_games.printSchema()\n",
    "# club_games.show(10)"
   ]
  },
  {
   "cell_type": "markdown",
   "id": "6f9d9c03-d627-4d4c-986b-301c1779761c",
   "metadata": {},
   "source": [
    "### Clubs Data"
   ]
  },
  {
   "cell_type": "code",
   "execution_count": 73,
   "id": "65ec3dc6-6618-44c5-b1e1-48fe9f82718b",
   "metadata": {
    "execution": {
     "iopub.execute_input": "2024-11-18T02:33:25.067278Z",
     "iopub.status.busy": "2024-11-18T02:33:25.067044Z",
     "iopub.status.idle": "2024-11-18T02:33:25.821712Z",
     "shell.execute_reply": "2024-11-18T02:33:25.821041Z",
     "shell.execute_reply.started": "2024-11-18T02:33:25.067251Z"
    },
    "tags": []
   },
   "outputs": [
    {
     "data": {
      "application/vnd.jupyter.widget-view+json": {
       "model_id": "7df5e7c84a9e485d8d5cc2ce39a5f12a",
       "version_major": 2,
       "version_minor": 0
      },
      "text/plain": [
       "VBox()"
      ]
     },
     "metadata": {},
     "output_type": "display_data"
    },
    {
     "data": {
      "application/vnd.jupyter.widget-view+json": {
       "model_id": "",
       "version_major": 2,
       "version_minor": 0
      },
      "text/plain": [
       "FloatProgress(value=0.0, bar_style='info', description='Progress:', layout=Layout(height='25px', width='50%'),…"
      ]
     },
     "metadata": {},
     "output_type": "display_data"
    },
    {
     "name": "stdout",
     "output_type": "stream",
     "text": [
      "root\n",
      " |-- club_id: string (nullable = true)\n",
      " |-- club_code: string (nullable = true)\n",
      " |-- club_name: string (nullable = true)\n",
      " |-- domestic_competition_id: string (nullable = true)\n",
      " |-- total_market_value: string (nullable = true)\n",
      " |-- squad_size: string (nullable = true)\n",
      " |-- average_age: string (nullable = true)\n",
      " |-- foreigners_number: string (nullable = true)\n",
      " |-- foreigners_percentage: string (nullable = true)\n",
      " |-- national_team_players: string (nullable = true)\n",
      " |-- stadium_name: string (nullable = true)\n",
      " |-- stadium_seats: string (nullable = true)\n",
      " |-- net_transfer_record: string (nullable = true)\n",
      " |-- coach_name: string (nullable = true)\n",
      " |-- last_season: string (nullable = true)\n",
      " |-- filename: string (nullable = true)\n",
      " |-- url: string (nullable = true)"
     ]
    }
   ],
   "source": [
    "# Load Data\n",
    "clubs = spark.read.csv(path+'datasets/clubs.csv', sep=',', header= True)\n",
    "\n",
    "# Rename Variables\n",
    "clubs = clubs.withColumnRenamed(\"name\",\"club_name\")\n",
    "\n",
    "# Print Schema\n",
    "clubs.printSchema()\n",
    "# clubs.show(10)"
   ]
  },
  {
   "cell_type": "markdown",
   "id": "3967900f-1548-4abc-bdbb-285eda30fa9e",
   "metadata": {},
   "source": [
    "### Competitions Data"
   ]
  },
  {
   "cell_type": "code",
   "execution_count": 74,
   "id": "4069eafb-5508-48fe-8eae-3da7d10f13bd",
   "metadata": {
    "execution": {
     "iopub.execute_input": "2024-11-18T02:33:27.365041Z",
     "iopub.status.busy": "2024-11-18T02:33:27.364803Z",
     "iopub.status.idle": "2024-11-18T02:33:28.163321Z",
     "shell.execute_reply": "2024-11-18T02:33:28.162511Z",
     "shell.execute_reply.started": "2024-11-18T02:33:27.365013Z"
    },
    "tags": []
   },
   "outputs": [
    {
     "data": {
      "application/vnd.jupyter.widget-view+json": {
       "model_id": "70d1fa6b6ad84f2d81aed569bac39daa",
       "version_major": 2,
       "version_minor": 0
      },
      "text/plain": [
       "VBox()"
      ]
     },
     "metadata": {},
     "output_type": "display_data"
    },
    {
     "data": {
      "application/vnd.jupyter.widget-view+json": {
       "model_id": "",
       "version_major": 2,
       "version_minor": 0
      },
      "text/plain": [
       "FloatProgress(value=0.0, bar_style='info', description='Progress:', layout=Layout(height='25px', width='50%'),…"
      ]
     },
     "metadata": {},
     "output_type": "display_data"
    },
    {
     "name": "stdout",
     "output_type": "stream",
     "text": [
      "root\n",
      " |-- competition_id: string (nullable = true)\n",
      " |-- competition_code: string (nullable = true)\n",
      " |-- competition_name: string (nullable = true)\n",
      " |-- sub_type: string (nullable = true)\n",
      " |-- type: string (nullable = true)\n",
      " |-- country_id: string (nullable = true)\n",
      " |-- country_name: string (nullable = true)\n",
      " |-- domestic_league_code: string (nullable = true)\n",
      " |-- confederation: string (nullable = true)\n",
      " |-- url: string (nullable = true)\n",
      " |-- is_major_national_league: string (nullable = true)"
     ]
    }
   ],
   "source": [
    "# Load Data\n",
    "competitions = spark.read.csv(path+'datasets/competitions.csv', sep=',', header= True)\n",
    "\n",
    "# Rename Variables\n",
    "competitions = competitions.withColumnRenamed(\"name\",\"competition_name\")\n",
    "        \n",
    "# Print Schema\n",
    "competitions.printSchema()\n",
    "# competitions.show(10)"
   ]
  },
  {
   "cell_type": "markdown",
   "id": "5ff8b4c3-65ff-401e-9926-3928c965dee6",
   "metadata": {},
   "source": [
    "### Game Events Data"
   ]
  },
  {
   "cell_type": "code",
   "execution_count": 75,
   "id": "27338bc8-56cc-4a16-a209-dc5dcdefeffb",
   "metadata": {
    "execution": {
     "iopub.execute_input": "2024-11-18T02:33:29.737474Z",
     "iopub.status.busy": "2024-11-18T02:33:29.737226Z",
     "iopub.status.idle": "2024-11-18T02:33:30.534120Z",
     "shell.execute_reply": "2024-11-18T02:33:30.533111Z",
     "shell.execute_reply.started": "2024-11-18T02:33:29.737444Z"
    },
    "tags": []
   },
   "outputs": [
    {
     "data": {
      "application/vnd.jupyter.widget-view+json": {
       "model_id": "92bead7cb4c24649a586eb5e98b71661",
       "version_major": 2,
       "version_minor": 0
      },
      "text/plain": [
       "VBox()"
      ]
     },
     "metadata": {},
     "output_type": "display_data"
    },
    {
     "data": {
      "application/vnd.jupyter.widget-view+json": {
       "model_id": "",
       "version_major": 2,
       "version_minor": 0
      },
      "text/plain": [
       "FloatProgress(value=0.0, bar_style='info', description='Progress:', layout=Layout(height='25px', width='50%'),…"
      ]
     },
     "metadata": {},
     "output_type": "display_data"
    },
    {
     "name": "stdout",
     "output_type": "stream",
     "text": [
      "root\n",
      " |-- game_event_id: string (nullable = true)\n",
      " |-- date: string (nullable = true)\n",
      " |-- game_id: string (nullable = true)\n",
      " |-- minute: string (nullable = true)\n",
      " |-- event_type: string (nullable = true)\n",
      " |-- event_club_id: string (nullable = true)\n",
      " |-- player_id: string (nullable = true)\n",
      " |-- description: string (nullable = true)\n",
      " |-- player_in_id: string (nullable = true)\n",
      " |-- player_assist_id: string (nullable = true)"
     ]
    }
   ],
   "source": [
    "# Load Data\n",
    "game_events = spark.read.csv(path+'datasets/game_events.csv', sep=',', header= True)\n",
    "\n",
    "# Rename Variables\n",
    "game_events = game_events.withColumnRenamed(\"type\",\"event_type\").withColumnRenamed(\"club_id\",\"event_club_id\")\n",
    "\n",
    "# Print Schema\n",
    "game_events.printSchema()\n",
    "# game_events.show(10)"
   ]
  },
  {
   "cell_type": "markdown",
   "id": "c341baa1-6d8d-4706-b50a-ebf324f75864",
   "metadata": {},
   "source": [
    "### Game Lineups Data"
   ]
  },
  {
   "cell_type": "code",
   "execution_count": 76,
   "id": "ae75ac8d-3429-400c-917a-f094ab19d236",
   "metadata": {
    "execution": {
     "iopub.execute_input": "2024-11-18T02:33:36.769825Z",
     "iopub.status.busy": "2024-11-18T02:33:36.769204Z",
     "iopub.status.idle": "2024-11-18T02:33:37.543947Z",
     "shell.execute_reply": "2024-11-18T02:33:37.542887Z",
     "shell.execute_reply.started": "2024-11-18T02:33:36.769793Z"
    },
    "tags": []
   },
   "outputs": [
    {
     "data": {
      "application/vnd.jupyter.widget-view+json": {
       "model_id": "8f3752cbd87647d69b64e717c4c42375",
       "version_major": 2,
       "version_minor": 0
      },
      "text/plain": [
       "VBox()"
      ]
     },
     "metadata": {},
     "output_type": "display_data"
    },
    {
     "data": {
      "application/vnd.jupyter.widget-view+json": {
       "model_id": "",
       "version_major": 2,
       "version_minor": 0
      },
      "text/plain": [
       "FloatProgress(value=0.0, bar_style='info', description='Progress:', layout=Layout(height='25px', width='50%'),…"
      ]
     },
     "metadata": {},
     "output_type": "display_data"
    },
    {
     "name": "stdout",
     "output_type": "stream",
     "text": [
      "root\n",
      " |-- game_lineups_id: string (nullable = true)\n",
      " |-- date: string (nullable = true)\n",
      " |-- game_id: string (nullable = true)\n",
      " |-- player_id: string (nullable = true)\n",
      " |-- club_id: string (nullable = true)\n",
      " |-- player_name: string (nullable = true)\n",
      " |-- starting_status: string (nullable = true)\n",
      " |-- position: string (nullable = true)\n",
      " |-- number: string (nullable = true)\n",
      " |-- team_captain: string (nullable = true)"
     ]
    }
   ],
   "source": [
    "# Load Data\n",
    "game_lineups = spark.read.csv(path+'datasets/game_lineups.csv', sep=',', header= True)\n",
    "\n",
    "# Rename Variables\n",
    "game_lineups = game_lineups.withColumnRenamed(\"type\", \"starting_status\")\n",
    "        \n",
    "# Print Schema\n",
    "game_lineups.printSchema()\n",
    "# game_lineups.show(10)"
   ]
  },
  {
   "cell_type": "markdown",
   "id": "10dff880-5a07-4532-86d0-1ede77018154",
   "metadata": {},
   "source": [
    "### Games Data"
   ]
  },
  {
   "cell_type": "code",
   "execution_count": 77,
   "id": "f8c4c01c-3ff1-468d-9645-df366f83f1fd",
   "metadata": {
    "execution": {
     "iopub.execute_input": "2024-11-18T02:33:45.762221Z",
     "iopub.status.busy": "2024-11-18T02:33:45.761811Z",
     "iopub.status.idle": "2024-11-18T02:33:46.568633Z",
     "shell.execute_reply": "2024-11-18T02:33:46.567731Z",
     "shell.execute_reply.started": "2024-11-18T02:33:45.762180Z"
    },
    "tags": []
   },
   "outputs": [
    {
     "data": {
      "application/vnd.jupyter.widget-view+json": {
       "model_id": "805546cb2ebc40209b97a99928b49a2a",
       "version_major": 2,
       "version_minor": 0
      },
      "text/plain": [
       "VBox()"
      ]
     },
     "metadata": {},
     "output_type": "display_data"
    },
    {
     "data": {
      "application/vnd.jupyter.widget-view+json": {
       "model_id": "",
       "version_major": 2,
       "version_minor": 0
      },
      "text/plain": [
       "FloatProgress(value=0.0, bar_style='info', description='Progress:', layout=Layout(height='25px', width='50%'),…"
      ]
     },
     "metadata": {},
     "output_type": "display_data"
    },
    {
     "name": "stdout",
     "output_type": "stream",
     "text": [
      "root\n",
      " |-- game_id: string (nullable = true)\n",
      " |-- competition_id: string (nullable = true)\n",
      " |-- season: string (nullable = true)\n",
      " |-- round: string (nullable = true)\n",
      " |-- game_date: string (nullable = true)\n",
      " |-- home_club_id: string (nullable = true)\n",
      " |-- away_club_id: string (nullable = true)\n",
      " |-- scored_goals: string (nullable = true)\n",
      " |-- conceded_goals: string (nullable = true)\n",
      " |-- home_club_position: string (nullable = true)\n",
      " |-- away_club_position: string (nullable = true)\n",
      " |-- home_club_manager_name: string (nullable = true)\n",
      " |-- away_club_manager_name: string (nullable = true)\n",
      " |-- stadium: string (nullable = true)\n",
      " |-- attendance: string (nullable = true)\n",
      " |-- referee: string (nullable = true)\n",
      " |-- url: string (nullable = true)\n",
      " |-- home_club_formation: string (nullable = true)\n",
      " |-- away_club_formation: string (nullable = true)\n",
      " |-- home_club_name: string (nullable = true)\n",
      " |-- away_club_name: string (nullable = true)\n",
      " |-- aggregate: string (nullable = true)\n",
      " |-- competition_type: string (nullable = true)"
     ]
    }
   ],
   "source": [
    "# Load Data\n",
    "games = spark.read.csv(path+'datasets/games.csv', sep=',', header= True)\n",
    "\n",
    "# Rename Variables\n",
    "games = games.withColumnRenamed(\"date\",\"game_date\").withColumnRenamed(\"home_club_goals\", \"scored_goals\").withColumnRenamed(\"away_club_goals\", \"conceded_goals\")\n",
    "\n",
    "# Print schema\n",
    "games.printSchema()\n",
    "# games.show(10)"
   ]
  },
  {
   "cell_type": "markdown",
   "id": "b72b43dd-90dd-435c-8ad0-39f58249f484",
   "metadata": {},
   "source": [
    "### Player Valuations Data"
   ]
  },
  {
   "cell_type": "code",
   "execution_count": 78,
   "id": "6dd9467a-96bd-4f4a-bb1a-327285842b74",
   "metadata": {
    "execution": {
     "iopub.execute_input": "2024-11-18T02:33:49.146214Z",
     "iopub.status.busy": "2024-11-18T02:33:49.145977Z",
     "iopub.status.idle": "2024-11-18T02:33:49.914510Z",
     "shell.execute_reply": "2024-11-18T02:33:49.913655Z",
     "shell.execute_reply.started": "2024-11-18T02:33:49.146186Z"
    },
    "tags": []
   },
   "outputs": [
    {
     "data": {
      "application/vnd.jupyter.widget-view+json": {
       "model_id": "edc94d5768f04770a8efc4117e9f4f07",
       "version_major": 2,
       "version_minor": 0
      },
      "text/plain": [
       "VBox()"
      ]
     },
     "metadata": {},
     "output_type": "display_data"
    },
    {
     "data": {
      "application/vnd.jupyter.widget-view+json": {
       "model_id": "",
       "version_major": 2,
       "version_minor": 0
      },
      "text/plain": [
       "FloatProgress(value=0.0, bar_style='info', description='Progress:', layout=Layout(height='25px', width='50%'),…"
      ]
     },
     "metadata": {},
     "output_type": "display_data"
    },
    {
     "name": "stdout",
     "output_type": "stream",
     "text": [
      "root\n",
      " |-- player_id: string (nullable = true)\n",
      " |-- valuation_date: string (nullable = true)\n",
      " |-- market_value_in_eur: string (nullable = true)\n",
      " |-- current_club_id: string (nullable = true)\n",
      " |-- player_club_domestic_competition_id: string (nullable = true)"
     ]
    }
   ],
   "source": [
    "# Load Data\n",
    "player_valuations = spark.read.csv(path+'datasets/player_valuations.csv', sep=',', header= True)\n",
    "\n",
    "# Rename Variables\n",
    "player_valuations = player_valuations.withColumnRenamed(\"date\",\"valuation_date\")\n",
    "        \n",
    "# Print Schema\n",
    "player_valuations.printSchema()\n",
    "# player_valuations.show(10)"
   ]
  },
  {
   "cell_type": "markdown",
   "id": "69497f93-7da1-44b1-b23e-75f2aa211347",
   "metadata": {},
   "source": [
    "### Players Data"
   ]
  },
  {
   "cell_type": "code",
   "execution_count": 79,
   "id": "a3244bc2-bb22-457b-aa07-6256bf78ee73",
   "metadata": {
    "execution": {
     "iopub.execute_input": "2024-11-18T02:33:52.652398Z",
     "iopub.status.busy": "2024-11-18T02:33:52.652169Z",
     "iopub.status.idle": "2024-11-18T02:33:53.459764Z",
     "shell.execute_reply": "2024-11-18T02:33:53.459099Z",
     "shell.execute_reply.started": "2024-11-18T02:33:52.652372Z"
    },
    "tags": []
   },
   "outputs": [
    {
     "data": {
      "application/vnd.jupyter.widget-view+json": {
       "model_id": "184d7f8d02b0492e868c76de5553e4ab",
       "version_major": 2,
       "version_minor": 0
      },
      "text/plain": [
       "VBox()"
      ]
     },
     "metadata": {},
     "output_type": "display_data"
    },
    {
     "data": {
      "application/vnd.jupyter.widget-view+json": {
       "model_id": "",
       "version_major": 2,
       "version_minor": 0
      },
      "text/plain": [
       "FloatProgress(value=0.0, bar_style='info', description='Progress:', layout=Layout(height='25px', width='50%'),…"
      ]
     },
     "metadata": {},
     "output_type": "display_data"
    },
    {
     "name": "stdout",
     "output_type": "stream",
     "text": [
      "root\n",
      " |-- player_id: string (nullable = true)\n",
      " |-- first_name: string (nullable = true)\n",
      " |-- last_name: string (nullable = true)\n",
      " |-- full_name: string (nullable = true)\n",
      " |-- last_active_season: string (nullable = true)\n",
      " |-- current_club_id: string (nullable = true)\n",
      " |-- player_code: string (nullable = true)\n",
      " |-- country_of_birth: string (nullable = true)\n",
      " |-- city_of_birth: string (nullable = true)\n",
      " |-- country_of_citizenship: string (nullable = true)\n",
      " |-- date_of_birth: string (nullable = true)\n",
      " |-- sub_position: string (nullable = true)\n",
      " |-- field_role: string (nullable = true)\n",
      " |-- foot: string (nullable = true)\n",
      " |-- height_in_cm: string (nullable = true)\n",
      " |-- contract_expiration_date: string (nullable = true)\n",
      " |-- agent_name: string (nullable = true)\n",
      " |-- image_url: string (nullable = true)\n",
      " |-- url: string (nullable = true)\n",
      " |-- current_club_domestic_competition_id: string (nullable = true)\n",
      " |-- current_club_name: string (nullable = true)\n",
      " |-- market_value_in_eur: string (nullable = true)\n",
      " |-- highest_market_value_in_eur: string (nullable = true)"
     ]
    }
   ],
   "source": [
    "# Load Data\n",
    "players = spark.read.csv(path+'datasets/players.csv', sep=',', header= True)\n",
    "\n",
    "# Rename Variables\n",
    "players = players.withColumnRenamed(\"last_season\",\"last_active_season\").withColumnRenamed(\"name\",\"full_name\").withColumnRenamed(\"position\",\"field_role\")\n",
    "\n",
    "# Print Schema\n",
    "players.printSchema()\n",
    "# players.show(10)"
   ]
  },
  {
   "cell_type": "markdown",
   "id": "ed5d5adc-5f8f-4ac9-b384-730aff39f51b",
   "metadata": {},
   "source": [
    "### Transfers data"
   ]
  },
  {
   "cell_type": "code",
   "execution_count": 80,
   "id": "ba0d300f-8a38-400f-83c0-f43eafd86da1",
   "metadata": {
    "execution": {
     "iopub.execute_input": "2024-11-18T02:33:57.294528Z",
     "iopub.status.busy": "2024-11-18T02:33:57.294260Z",
     "iopub.status.idle": "2024-11-18T02:33:58.098748Z",
     "shell.execute_reply": "2024-11-18T02:33:58.098043Z",
     "shell.execute_reply.started": "2024-11-18T02:33:57.294498Z"
    },
    "tags": []
   },
   "outputs": [
    {
     "data": {
      "application/vnd.jupyter.widget-view+json": {
       "model_id": "f16691dbef6b405ab5d579d53d65c7e8",
       "version_major": 2,
       "version_minor": 0
      },
      "text/plain": [
       "VBox()"
      ]
     },
     "metadata": {},
     "output_type": "display_data"
    },
    {
     "data": {
      "application/vnd.jupyter.widget-view+json": {
       "model_id": "",
       "version_major": 2,
       "version_minor": 0
      },
      "text/plain": [
       "FloatProgress(value=0.0, bar_style='info', description='Progress:', layout=Layout(height='25px', width='50%'),…"
      ]
     },
     "metadata": {},
     "output_type": "display_data"
    },
    {
     "name": "stdout",
     "output_type": "stream",
     "text": [
      "root\n",
      " |-- player_id: string (nullable = true)\n",
      " |-- transfer_date: string (nullable = true)\n",
      " |-- transfer_season: string (nullable = true)\n",
      " |-- from_club_id: string (nullable = true)\n",
      " |-- to_club_id: string (nullable = true)\n",
      " |-- from_club_name: string (nullable = true)\n",
      " |-- to_club_name: string (nullable = true)\n",
      " |-- transfer_fee: string (nullable = true)\n",
      " |-- market_value: string (nullable = true)\n",
      " |-- player_name: string (nullable = true)"
     ]
    }
   ],
   "source": [
    "# Load Data\n",
    "transfers = spark.read.csv(path+'datasets/transfers.csv', sep=',', header= True)\n",
    "\n",
    "# Rename Variables\n",
    "transfers = transfers.withColumnRenamed(\"market_value_in_eur\",\"market_value\")\n",
    "\n",
    "# Print Schema\n",
    "transfers.printSchema()\n",
    "# transfers.show(10)"
   ]
  },
  {
   "cell_type": "markdown",
   "id": "585d12d2-9d59-490f-944c-663ee3462acd",
   "metadata": {},
   "source": [
    "## Merge DataFrames"
   ]
  },
  {
   "cell_type": "markdown",
   "id": "40502241-b76c-4b0d-a669-8c20428b833e",
   "metadata": {},
   "source": [
    "### Add Game Lineups Data"
   ]
  },
  {
   "cell_type": "code",
   "execution_count": 81,
   "id": "cc8f2a2e-5869-41dd-95c9-4ccb15cb3e2b",
   "metadata": {
    "execution": {
     "iopub.execute_input": "2024-11-18T02:34:02.528354Z",
     "iopub.status.busy": "2024-11-18T02:34:02.528090Z",
     "iopub.status.idle": "2024-11-18T02:34:17.939253Z",
     "shell.execute_reply": "2024-11-18T02:34:17.938566Z",
     "shell.execute_reply.started": "2024-11-18T02:34:02.528326Z"
    },
    "tags": []
   },
   "outputs": [
    {
     "data": {
      "application/vnd.jupyter.widget-view+json": {
       "model_id": "71ce76e7164642cab6a3d3f4a4c826df",
       "version_major": 2,
       "version_minor": 0
      },
      "text/plain": [
       "VBox()"
      ]
     },
     "metadata": {},
     "output_type": "display_data"
    },
    {
     "data": {
      "application/vnd.jupyter.widget-view+json": {
       "model_id": "",
       "version_major": 2,
       "version_minor": 0
      },
      "text/plain": [
       "FloatProgress(value=0.0, bar_style='info', description='Progress:', layout=Layout(height='25px', width='50%'),…"
      ]
     },
     "metadata": {},
     "output_type": "display_data"
    },
    {
     "name": "stdout",
     "output_type": "stream",
     "text": [
      "root\n",
      " |-- game_id: string (nullable = true)\n",
      " |-- player_id: string (nullable = true)\n",
      " |-- club_id: string (nullable = true)\n",
      " |-- player_name: string (nullable = true)\n",
      " |-- starting_status: string (nullable = true)\n",
      " |-- position: string (nullable = true)\n",
      " |-- team_captain: string (nullable = true)\n",
      "\n",
      "Out of 2285289, the are 140070 rows with missing values."
     ]
    }
   ],
   "source": [
    "base_df = game_lineups.select('game_id', 'player_id', 'club_id', 'player_name', 'starting_status', 'position', 'team_captain')\n",
    "base_df.printSchema()\n",
    "\n",
    "total_rows = base_df.count()\n",
    "rows_with_missing_values = base_df.filter(sum([col(c).isNull().cast(\"int\") for c in base_df.columns]) > 0).count()\n",
    "print(f\"Out of {total_rows}, the are {rows_with_missing_values} rows with missing values.\")"
   ]
  },
  {
   "cell_type": "markdown",
   "id": "a4ca855e-c023-41ce-b4f5-f4d6f17bb2dd",
   "metadata": {},
   "source": [
    "### Add Appearances Data"
   ]
  },
  {
   "cell_type": "code",
   "execution_count": 82,
   "id": "6ddc6a6e-133c-44b8-88ab-337ec9a227f7",
   "metadata": {
    "execution": {
     "iopub.execute_input": "2024-11-18T02:34:59.442601Z",
     "iopub.status.busy": "2024-11-18T02:34:59.442353Z",
     "iopub.status.idle": "2024-11-18T02:35:33.099962Z",
     "shell.execute_reply": "2024-11-18T02:35:33.098681Z",
     "shell.execute_reply.started": "2024-11-18T02:34:59.442572Z"
    },
    "tags": []
   },
   "outputs": [
    {
     "data": {
      "application/vnd.jupyter.widget-view+json": {
       "model_id": "22f8cffd68dd4494987ad5018bb0cb5d",
       "version_major": 2,
       "version_minor": 0
      },
      "text/plain": [
       "VBox()"
      ]
     },
     "metadata": {},
     "output_type": "display_data"
    },
    {
     "data": {
      "application/vnd.jupyter.widget-view+json": {
       "model_id": "",
       "version_major": 2,
       "version_minor": 0
      },
      "text/plain": [
       "FloatProgress(value=0.0, bar_style='info', description='Progress:', layout=Layout(height='25px', width='50%'),…"
      ]
     },
     "metadata": {},
     "output_type": "display_data"
    },
    {
     "name": "stdout",
     "output_type": "stream",
     "text": [
      "root\n",
      " |-- game_id: string (nullable = true)\n",
      " |-- player_id: string (nullable = true)\n",
      " |-- club_id: string (nullable = true)\n",
      " |-- player_name: string (nullable = true)\n",
      " |-- starting_status: string (nullable = true)\n",
      " |-- position: string (nullable = true)\n",
      " |-- team_captain: string (nullable = true)\n",
      " |-- minutes_played: string (nullable = true)\n",
      " |-- goals: string (nullable = true)\n",
      " |-- assists: string (nullable = true)\n",
      " |-- yellow_cards: string (nullable = true)\n",
      " |-- red_cards: string (nullable = true)\n",
      "\n",
      "Out of 2285289, the are 976127 rows with missing values."
     ]
    }
   ],
   "source": [
    "df_w_appearances = base_df.join(appearances.select('game_id', 'player_id', 'minutes_played', 'goals', 'assists', 'yellow_cards', 'red_cards'), \n",
    "                                on=['game_id', 'player_id'], how='left')\n",
    "df_w_appearances.printSchema()\n",
    "\n",
    "total_rows = df_w_appearances.count()\n",
    "rows_with_missing_values = df_w_appearances.filter(sum([col(c).isNull().cast(\"int\") for c in df_w_appearances.columns]) > 0).count()\n",
    "print(f\"Out of {total_rows}, the are {rows_with_missing_values} rows with missing values.\")"
   ]
  },
  {
   "cell_type": "markdown",
   "id": "c66f9a64-defd-4f32-a9b4-7edb8b67b63e",
   "metadata": {},
   "source": [
    "### Add Players Data"
   ]
  },
  {
   "cell_type": "code",
   "execution_count": 83,
   "id": "12d3242e-ed09-4d98-a87e-b9d701470d85",
   "metadata": {
    "execution": {
     "iopub.execute_input": "2024-11-18T02:35:35.249351Z",
     "iopub.status.busy": "2024-11-18T02:35:35.249109Z",
     "iopub.status.idle": "2024-11-18T02:35:58.686877Z",
     "shell.execute_reply": "2024-11-18T02:35:58.685932Z",
     "shell.execute_reply.started": "2024-11-18T02:35:35.249323Z"
    },
    "tags": []
   },
   "outputs": [
    {
     "data": {
      "application/vnd.jupyter.widget-view+json": {
       "model_id": "f43b2d209b1742dbb902d6dcc16ceab0",
       "version_major": 2,
       "version_minor": 0
      },
      "text/plain": [
       "VBox()"
      ]
     },
     "metadata": {},
     "output_type": "display_data"
    },
    {
     "data": {
      "application/vnd.jupyter.widget-view+json": {
       "model_id": "",
       "version_major": 2,
       "version_minor": 0
      },
      "text/plain": [
       "FloatProgress(value=0.0, bar_style='info', description='Progress:', layout=Layout(height='25px', width='50%'),…"
      ]
     },
     "metadata": {},
     "output_type": "display_data"
    },
    {
     "name": "stdout",
     "output_type": "stream",
     "text": [
      "root\n",
      " |-- player_id: string (nullable = true)\n",
      " |-- game_id: string (nullable = true)\n",
      " |-- club_id: string (nullable = true)\n",
      " |-- player_name: string (nullable = true)\n",
      " |-- starting_status: string (nullable = true)\n",
      " |-- position: string (nullable = true)\n",
      " |-- team_captain: string (nullable = true)\n",
      " |-- minutes_played: string (nullable = true)\n",
      " |-- goals: string (nullable = true)\n",
      " |-- assists: string (nullable = true)\n",
      " |-- yellow_cards: string (nullable = true)\n",
      " |-- red_cards: string (nullable = true)\n",
      " |-- field_role: string (nullable = true)\n",
      " |-- height_in_cm: string (nullable = true)\n",
      " |-- date_of_birth: string (nullable = true)\n",
      " |-- foot: string (nullable = true)\n",
      " |-- market_value_in_eur: string (nullable = true)\n",
      " |-- last_active_season: string (nullable = true)\n",
      "\n",
      "Out of 2285289, the are 995669 rows with missing values."
     ]
    }
   ],
   "source": [
    "df_w_players = df_w_appearances.join(players.select('player_id', 'field_role', 'height_in_cm', 'date_of_birth', 'foot', 'market_value_in_eur', 'last_active_season'),\n",
    "                                     on='player_id', how='left')\n",
    "df_w_players.printSchema()\n",
    "\n",
    "total_rows = df_w_players.count()\n",
    "rows_with_missing_values = df_w_players.filter(sum([col(c).isNull().cast(\"int\") for c in df_w_players.columns]) > 0).count()\n",
    "print(f\"Out of {total_rows}, the are {rows_with_missing_values} rows with missing values.\")"
   ]
  },
  {
   "cell_type": "markdown",
   "id": "d24f9fbb-194d-47c2-81a9-f47870dc2c12",
   "metadata": {},
   "source": [
    "### Add Games Data"
   ]
  },
  {
   "cell_type": "code",
   "execution_count": 84,
   "id": "2485e309-402b-4ee0-92c8-da91dfbad32a",
   "metadata": {
    "execution": {
     "iopub.execute_input": "2024-11-18T02:37:05.730329Z",
     "iopub.status.busy": "2024-11-18T02:37:05.730091Z",
     "iopub.status.idle": "2024-11-18T02:37:49.278034Z",
     "shell.execute_reply": "2024-11-18T02:37:49.277161Z",
     "shell.execute_reply.started": "2024-11-18T02:37:05.730302Z"
    },
    "tags": []
   },
   "outputs": [
    {
     "data": {
      "application/vnd.jupyter.widget-view+json": {
       "model_id": "c684804311ca45069ef843420662a419",
       "version_major": 2,
       "version_minor": 0
      },
      "text/plain": [
       "VBox()"
      ]
     },
     "metadata": {},
     "output_type": "display_data"
    },
    {
     "data": {
      "application/vnd.jupyter.widget-view+json": {
       "model_id": "",
       "version_major": 2,
       "version_minor": 0
      },
      "text/plain": [
       "FloatProgress(value=0.0, bar_style='info', description='Progress:', layout=Layout(height='25px', width='50%'),…"
      ]
     },
     "metadata": {},
     "output_type": "display_data"
    },
    {
     "name": "stdout",
     "output_type": "stream",
     "text": [
      "root\n",
      " |-- game_id: string (nullable = true)\n",
      " |-- player_id: string (nullable = true)\n",
      " |-- club_id: string (nullable = true)\n",
      " |-- player_name: string (nullable = true)\n",
      " |-- starting_status: string (nullable = true)\n",
      " |-- position: string (nullable = true)\n",
      " |-- team_captain: string (nullable = true)\n",
      " |-- minutes_played: string (nullable = true)\n",
      " |-- goals: string (nullable = true)\n",
      " |-- assists: string (nullable = true)\n",
      " |-- yellow_cards: string (nullable = true)\n",
      " |-- red_cards: string (nullable = true)\n",
      " |-- field_role: string (nullable = true)\n",
      " |-- height_in_cm: string (nullable = true)\n",
      " |-- date_of_birth: string (nullable = true)\n",
      " |-- foot: string (nullable = true)\n",
      " |-- market_value_in_eur: string (nullable = true)\n",
      " |-- last_active_season: string (nullable = true)\n",
      " |-- game_date: string (nullable = true)\n",
      " |-- competition_id: string (nullable = true)\n",
      " |-- season: string (nullable = true)\n",
      " |-- competition_type: string (nullable = true)\n",
      " |-- home_club_id: string (nullable = true)\n",
      " |-- away_club_id: string (nullable = true)\n",
      " |-- home_club_formation: string (nullable = true)\n",
      " |-- away_club_formation: string (nullable = true)\n",
      "\n",
      "Out of 2285289, the are 996512 rows with missing values."
     ]
    }
   ],
   "source": [
    "df_w_games = df_w_players.join(games.select('game_id', 'game_date', 'competition_id', 'season', 'competition_type', 'home_club_id',\n",
    "                                            'away_club_id', 'home_club_formation', 'away_club_formation'), on='game_id', how='left')\n",
    "df_w_games.printSchema()\n",
    "\n",
    "total_rows = df_w_games.count()\n",
    "rows_with_missing_values = df_w_games.filter(sum([col(c).isNull().cast(\"int\") for c in df_w_games.columns]) > 0).count()\n",
    "print(f\"Out of {total_rows}, the are {rows_with_missing_values} rows with missing values.\")"
   ]
  },
  {
   "cell_type": "markdown",
   "id": "a826f62c-6259-416d-8792-0ef1842a8ec1",
   "metadata": {},
   "source": [
    "### Add Clubs Data"
   ]
  },
  {
   "cell_type": "code",
   "execution_count": 85,
   "id": "7157b5ac-5ce1-4164-988d-22c032d17a0b",
   "metadata": {
    "execution": {
     "iopub.execute_input": "2024-11-18T02:38:53.893647Z",
     "iopub.status.busy": "2024-11-18T02:38:53.893410Z",
     "iopub.status.idle": "2024-11-18T02:39:39.596335Z",
     "shell.execute_reply": "2024-11-18T02:39:39.595594Z",
     "shell.execute_reply.started": "2024-11-18T02:38:53.893619Z"
    },
    "tags": []
   },
   "outputs": [
    {
     "data": {
      "application/vnd.jupyter.widget-view+json": {
       "model_id": "cceea0c7bb2749a1904742d0b7831950",
       "version_major": 2,
       "version_minor": 0
      },
      "text/plain": [
       "VBox()"
      ]
     },
     "metadata": {},
     "output_type": "display_data"
    },
    {
     "data": {
      "application/vnd.jupyter.widget-view+json": {
       "model_id": "",
       "version_major": 2,
       "version_minor": 0
      },
      "text/plain": [
       "FloatProgress(value=0.0, bar_style='info', description='Progress:', layout=Layout(height='25px', width='50%'),…"
      ]
     },
     "metadata": {},
     "output_type": "display_data"
    },
    {
     "name": "stdout",
     "output_type": "stream",
     "text": [
      "root\n",
      " |-- club_id: string (nullable = true)\n",
      " |-- game_id: string (nullable = true)\n",
      " |-- player_id: string (nullable = true)\n",
      " |-- player_name: string (nullable = true)\n",
      " |-- starting_status: string (nullable = true)\n",
      " |-- position: string (nullable = true)\n",
      " |-- team_captain: string (nullable = true)\n",
      " |-- minutes_played: string (nullable = true)\n",
      " |-- goals: string (nullable = true)\n",
      " |-- assists: string (nullable = true)\n",
      " |-- yellow_cards: string (nullable = true)\n",
      " |-- red_cards: string (nullable = true)\n",
      " |-- field_role: string (nullable = true)\n",
      " |-- height_in_cm: string (nullable = true)\n",
      " |-- date_of_birth: string (nullable = true)\n",
      " |-- foot: string (nullable = true)\n",
      " |-- market_value_in_eur: string (nullable = true)\n",
      " |-- last_active_season: string (nullable = true)\n",
      " |-- game_date: string (nullable = true)\n",
      " |-- competition_id: string (nullable = true)\n",
      " |-- season: string (nullable = true)\n",
      " |-- competition_type: string (nullable = true)\n",
      " |-- home_club_id: string (nullable = true)\n",
      " |-- away_club_id: string (nullable = true)\n",
      " |-- home_club_formation: string (nullable = true)\n",
      " |-- away_club_formation: string (nullable = true)\n",
      " |-- squad_size: string (nullable = true)\n",
      " |-- average_age: string (nullable = true)\n",
      "\n",
      "Out of 2285289, the are 1055217 rows with missing values."
     ]
    }
   ],
   "source": [
    "df_w_clubs = df_w_games.join(clubs.select('club_id', 'squad_size', 'average_age'), on='club_id', how='left')\n",
    "df_w_clubs.printSchema()\n",
    "\n",
    "total_rows = df_w_clubs.count()\n",
    "rows_with_missing_values = df_w_clubs.filter(sum([col(c).isNull().cast(\"int\") for c in df_w_clubs.columns]) > 0).count()\n",
    "print(f\"Out of {total_rows}, the are {rows_with_missing_values} rows with missing values.\")"
   ]
  },
  {
   "cell_type": "markdown",
   "id": "180ccb4d-e1eb-489f-984c-88227b6e5992",
   "metadata": {},
   "source": [
    "### Add Club Games Data"
   ]
  },
  {
   "cell_type": "code",
   "execution_count": 86,
   "id": "af37f2d8-c25b-409f-8aa8-ff26704a43ca",
   "metadata": {
    "execution": {
     "iopub.execute_input": "2024-11-18T02:39:44.264848Z",
     "iopub.status.busy": "2024-11-18T02:39:44.264544Z",
     "iopub.status.idle": "2024-11-18T02:40:09.746854Z",
     "shell.execute_reply": "2024-11-18T02:40:09.745886Z",
     "shell.execute_reply.started": "2024-11-18T02:39:44.264817Z"
    },
    "tags": []
   },
   "outputs": [
    {
     "data": {
      "application/vnd.jupyter.widget-view+json": {
       "model_id": "e84576a7b4904a8688e2ba5a9ae6a09f",
       "version_major": 2,
       "version_minor": 0
      },
      "text/plain": [
       "VBox()"
      ]
     },
     "metadata": {},
     "output_type": "display_data"
    },
    {
     "data": {
      "application/vnd.jupyter.widget-view+json": {
       "model_id": "",
       "version_major": 2,
       "version_minor": 0
      },
      "text/plain": [
       "FloatProgress(value=0.0, bar_style='info', description='Progress:', layout=Layout(height='25px', width='50%'),…"
      ]
     },
     "metadata": {},
     "output_type": "display_data"
    },
    {
     "name": "stdout",
     "output_type": "stream",
     "text": [
      "root\n",
      " |-- game_id: string (nullable = true)\n",
      " |-- club_id: string (nullable = true)\n",
      " |-- player_id: string (nullable = true)\n",
      " |-- player_name: string (nullable = true)\n",
      " |-- starting_status: string (nullable = true)\n",
      " |-- position: string (nullable = true)\n",
      " |-- team_captain: string (nullable = true)\n",
      " |-- minutes_played: string (nullable = true)\n",
      " |-- goals: string (nullable = true)\n",
      " |-- assists: string (nullable = true)\n",
      " |-- yellow_cards: string (nullable = true)\n",
      " |-- red_cards: string (nullable = true)\n",
      " |-- field_role: string (nullable = true)\n",
      " |-- height_in_cm: string (nullable = true)\n",
      " |-- date_of_birth: string (nullable = true)\n",
      " |-- foot: string (nullable = true)\n",
      " |-- market_value_in_eur: string (nullable = true)\n",
      " |-- last_active_season: string (nullable = true)\n",
      " |-- game_date: string (nullable = true)\n",
      " |-- competition_id: string (nullable = true)\n",
      " |-- season: string (nullable = true)\n",
      " |-- competition_type: string (nullable = true)\n",
      " |-- home_club_id: string (nullable = true)\n",
      " |-- away_club_id: string (nullable = true)\n",
      " |-- home_club_formation: string (nullable = true)\n",
      " |-- away_club_formation: string (nullable = true)\n",
      " |-- squad_size: string (nullable = true)\n",
      " |-- average_age: string (nullable = true)\n",
      " |-- hosting: string (nullable = true)\n",
      " |-- home_team_standings: string (nullable = true)\n",
      " |-- away_team_standings: string (nullable = true)\n",
      " |-- is_win: string (nullable = true)\n",
      "\n",
      "Out of 2285289, the are 1225242 rows with missing values."
     ]
    }
   ],
   "source": [
    "final_df = df_w_clubs.join(club_games.select('game_id', 'club_id', 'hosting', 'home_team_standings', 'away_team_standings', 'is_win'), \n",
    "                           on=['game_id', 'club_id'], how='left')\n",
    "final_df.printSchema()\n",
    "\n",
    "total_rows = final_df.count()\n",
    "rows_with_missing_values = final_df.filter(sum([col(c).isNull().cast(\"int\") for c in final_df.columns]) > 0).count()\n",
    "print(f\"Out of {total_rows}, the are {rows_with_missing_values} rows with missing values.\")"
   ]
  },
  {
   "cell_type": "markdown",
   "id": "bc903f97-1255-403f-b985-173da9038728",
   "metadata": {},
   "source": [
    "## Handle Missing Values"
   ]
  },
  {
   "cell_type": "markdown",
   "id": "7f299cbe-c7ff-477f-b007-ae2c2188e3ce",
   "metadata": {},
   "source": [
    "### Find the Initial Missing Values"
   ]
  },
  {
   "cell_type": "code",
   "execution_count": 87,
   "id": "9607909a-5a9d-4306-9f77-4301ad8b216f",
   "metadata": {
    "execution": {
     "iopub.execute_input": "2024-11-18T02:41:08.640899Z",
     "iopub.status.busy": "2024-11-18T02:41:08.640510Z",
     "iopub.status.idle": "2024-11-18T02:46:40.837655Z",
     "shell.execute_reply": "2024-11-18T02:46:40.836686Z",
     "shell.execute_reply.started": "2024-11-18T02:41:08.640853Z"
    },
    "tags": []
   },
   "outputs": [
    {
     "data": {
      "application/vnd.jupyter.widget-view+json": {
       "model_id": "1e6f996881ab4707a84137bea155118f",
       "version_major": 2,
       "version_minor": 0
      },
      "text/plain": [
       "VBox()"
      ]
     },
     "metadata": {},
     "output_type": "display_data"
    },
    {
     "data": {
      "application/vnd.jupyter.widget-view+json": {
       "model_id": "",
       "version_major": 2,
       "version_minor": 0
      },
      "text/plain": [
       "FloatProgress(value=0.0, bar_style='info', description='Progress:', layout=Layout(height='25px', width='50%'),…"
      ]
     },
     "metadata": {},
     "output_type": "display_data"
    },
    {
     "name": "stderr",
     "output_type": "stream",
     "text": [
      "Exception in thread cell_monitor-87:\n",
      "Traceback (most recent call last):\n",
      "  File \"/mnt/notebook-env/lib/python3.9/threading.py\", line 980, in _bootstrap_inner\n",
      "    self.run()\n",
      "  File \"/mnt/notebook-env/lib/python3.9/threading.py\", line 917, in run\n",
      "    self._target(*self._args, **self._kwargs)\n",
      "  File \"/mnt/notebook-env/lib/python3.9/site-packages/awseditorssparkmonitoringwidget/cellmonitor.py\", line 178, in cell_monitor\n",
      "    job_binned_stages[job_id][stage_id] = all_stages[stage_id]\n",
      "KeyError: 1493\n"
     ]
    },
    {
     "name": "stdout",
     "output_type": "stream",
     "text": [
      "Final dataframe shape: (2285289, 32)\n",
      "+-------------------+--------------+\n",
      "|Feature            |Missing_Values|\n",
      "+-------------------+--------------+\n",
      "|game_id            |93378         |\n",
      "|club_id            |93378         |\n",
      "|player_id          |93378         |\n",
      "|player_name        |93378         |\n",
      "|starting_status    |93378         |\n",
      "|position           |93381         |\n",
      "|team_captain       |140067        |\n",
      "|minutes_played     |942966        |\n",
      "|goals              |942966        |\n",
      "|assists            |942966        |\n",
      "|yellow_cards       |942966        |\n",
      "|red_cards          |942966        |\n",
      "|field_role         |342867        |\n",
      "|height_in_cm       |365535        |\n",
      "|date_of_birth      |343782        |\n",
      "|foot               |376088        |\n",
      "|market_value_in_eur|346325        |\n",
      "|last_active_season |342867        |\n",
      "|game_date          |97177         |\n",
      "|competition_id     |97177         |\n",
      "|season             |97177         |\n",
      "|competition_type   |97177         |\n",
      "|home_club_id       |97177         |\n",
      "|away_club_id       |97177         |\n",
      "|home_club_formation|104705        |\n",
      "|away_club_formation|101684        |\n",
      "|squad_size         |409629        |\n",
      "|average_age        |484765        |\n",
      "|hosting            |97177         |\n",
      "|home_team_standings|703052        |\n",
      "|away_team_standings|703052        |\n",
      "|is_win             |97177         |\n",
      "+-------------------+--------------+"
     ]
    }
   ],
   "source": [
    "# Identify the number of missing values per column\n",
    "print(\"Final dataframe shape:\", (final_df.count(), len(final_df.columns)))\n",
    "\n",
    "null_counts = [(column, final_df.filter(col(column).isNull()).count()) \n",
    "               for column in final_df.columns]\n",
    "initial_missing_values = spark.createDataFrame(null_counts, [\"Feature\", \"Missing_Values\"])\n",
    "initial_missing_values.show(n=initial_missing_values.count(), truncate=False)\n",
    "\n",
    "# Create a visualization of the initial missing values\n",
    "initial_missing_values_p = initial_missing_values.toPandas()\n",
    "initial_missing_values_p = initial_missing_values_p.sort_values('Missing_Values', ascending=True)\n",
    "\n",
    "plt.figure(figsize=(12, 8))\n",
    "bar_plot = sns.barplot(data=initial_missing_values_p, y='Feature', x='Missing_Values', orient ='h')\n",
    "plt.title('Missing Values by Feature')\n",
    "plt.xlabel('Number of Missing Values')\n",
    "plt.ylabel('Features')\n",
    "for index, value in enumerate(initial_missing_values_p['Missing_Values']):\n",
    "    plt.text(value, index, str(value), color='black', va='center')\n",
    "plt.tight_layout()\n",
    "\n",
    "buffer = io.BytesIO()\n",
    "plt.savefig(buffer, format='png', dpi=300, bbox_inches='tight')\n",
    "buffer.seek(0)\n",
    "img_data = buffer.getvalue()\n",
    "\n",
    "s3_client = boto3.client('s3')\n",
    "s3_client.put_object(\n",
    "    Body=img_data,\n",
    "    Bucket=\"final-project-gael-mota\",\n",
    "    Key=\"visualizations/InitialMissingValues.png\",\n",
    "    ContentType='image/png'\n",
    ")\n",
    "\n",
    "plt.close()"
   ]
  },
  {
   "cell_type": "markdown",
   "id": "98a684f5-b088-4967-8833-ef759b9e56a6",
   "metadata": {},
   "source": [
    "### Cast Data Types"
   ]
  },
  {
   "cell_type": "code",
   "execution_count": 88,
   "id": "44bdf82b-7d1b-4772-bd26-621d474923de",
   "metadata": {
    "execution": {
     "iopub.execute_input": "2024-11-18T02:47:48.530572Z",
     "iopub.status.busy": "2024-11-18T02:47:48.530338Z",
     "iopub.status.idle": "2024-11-18T02:47:49.303377Z",
     "shell.execute_reply": "2024-11-18T02:47:49.302483Z",
     "shell.execute_reply.started": "2024-11-18T02:47:48.530546Z"
    },
    "tags": []
   },
   "outputs": [
    {
     "data": {
      "application/vnd.jupyter.widget-view+json": {
       "model_id": "6ceae762dd3e4019b1813a497322f7e5",
       "version_major": 2,
       "version_minor": 0
      },
      "text/plain": [
       "VBox()"
      ]
     },
     "metadata": {},
     "output_type": "display_data"
    },
    {
     "data": {
      "application/vnd.jupyter.widget-view+json": {
       "model_id": "",
       "version_major": 2,
       "version_minor": 0
      },
      "text/plain": [
       "FloatProgress(value=0.0, bar_style='info', description='Progress:', layout=Layout(height='25px', width='50%'),…"
      ]
     },
     "metadata": {},
     "output_type": "display_data"
    },
    {
     "name": "stdout",
     "output_type": "stream",
     "text": [
      "root\n",
      " |-- game_id: string (nullable = true)\n",
      " |-- club_id: string (nullable = true)\n",
      " |-- player_id: string (nullable = true)\n",
      " |-- player_name: string (nullable = true)\n",
      " |-- starting_status: string (nullable = true)\n",
      " |-- position: string (nullable = true)\n",
      " |-- team_captain: boolean (nullable = true)\n",
      " |-- minutes_played: integer (nullable = true)\n",
      " |-- goals: integer (nullable = true)\n",
      " |-- assists: integer (nullable = true)\n",
      " |-- yellow_cards: integer (nullable = true)\n",
      " |-- red_cards: integer (nullable = true)\n",
      " |-- field_role: string (nullable = true)\n",
      " |-- height_in_cm: integer (nullable = true)\n",
      " |-- foot: string (nullable = true)\n",
      " |-- market_value_in_eur: float (nullable = true)\n",
      " |-- last_active_season: integer (nullable = true)\n",
      " |-- competition_id: string (nullable = true)\n",
      " |-- season: string (nullable = true)\n",
      " |-- competition_type: string (nullable = true)\n",
      " |-- home_club_id: string (nullable = true)\n",
      " |-- away_club_id: string (nullable = true)\n",
      " |-- home_club_formation: string (nullable = true)\n",
      " |-- away_club_formation: string (nullable = true)\n",
      " |-- squad_size: integer (nullable = true)\n",
      " |-- average_age: float (nullable = true)\n",
      " |-- hosting: string (nullable = true)\n",
      " |-- home_team_standings: integer (nullable = true)\n",
      " |-- away_team_standings: integer (nullable = true)\n",
      " |-- is_win: boolean (nullable = true)\n",
      " |-- game_date_day: integer (nullable = true)\n",
      " |-- game_date_month: integer (nullable = true)\n",
      " |-- game_date_year: integer (nullable = true)\n",
      " |-- date_of_birth_day: integer (nullable = true)\n",
      " |-- date_of_birth_month: integer (nullable = true)\n",
      " |-- date_of_birth_year: integer (nullable = true)"
     ]
    }
   ],
   "source": [
    "# Interger Variables\n",
    "interger_cols = ['minutes_played', 'goals', 'assists', 'yellow_cards', 'red_cards', 'height_in_cm',\n",
    "                 'last_active_season', 'squad_size', 'home_team_standings', 'away_team_standings']\n",
    "for column in interger_cols:\n",
    "    final_df = final_df.withColumn(column, col(column).cast('int'))\n",
    "\n",
    "# Float Variables\n",
    "float_cols = ['market_value_in_eur', 'average_age']\n",
    "for column in float_cols:\n",
    "    final_df = final_df.withColumn(column, col(column).cast('float'))\n",
    "\n",
    "# Date Variables\n",
    "date_cols = ['game_date', 'date_of_birth']\n",
    "for column in date_cols:\n",
    "    final_df = final_df.withColumn(column, col(column).cast('date'))\n",
    "    final_df = final_df.withColumn(column + '_day', dayofmonth(col(column)))\n",
    "    final_df = final_df.withColumn(column + '_month', month(col(column)))\n",
    "    final_df = final_df.withColumn(column + '_year', year(col(column)))\n",
    "final_df = final_df.drop(*date_cols)\n",
    "\n",
    "# Boolean Varaible\n",
    "final_df = final_df.withColumn('is_win', col('is_win').cast(BooleanType()))\n",
    "final_df = final_df.withColumn('team_captain', col('team_captain').cast(BooleanType()))\n",
    "\n",
    "# Print Schema\n",
    "final_df.printSchema()"
   ]
  },
  {
   "cell_type": "code",
   "execution_count": 90,
   "id": "e1629a4e-e6c0-4723-9c20-36c8d21e16f7",
   "metadata": {
    "execution": {
     "iopub.execute_input": "2024-11-18T02:49:48.114033Z",
     "iopub.status.busy": "2024-11-18T02:49:48.113789Z",
     "iopub.status.idle": "2024-11-18T02:56:02.356195Z",
     "shell.execute_reply": "2024-11-18T02:56:02.355096Z",
     "shell.execute_reply.started": "2024-11-18T02:49:48.114006Z"
    },
    "tags": []
   },
   "outputs": [
    {
     "data": {
      "application/vnd.jupyter.widget-view+json": {
       "model_id": "34ae258d56fb4a1d845d3dabf6f2e569",
       "version_major": 2,
       "version_minor": 0
      },
      "text/plain": [
       "VBox()"
      ]
     },
     "metadata": {},
     "output_type": "display_data"
    },
    {
     "data": {
      "application/vnd.jupyter.widget-view+json": {
       "model_id": "",
       "version_major": 2,
       "version_minor": 0
      },
      "text/plain": [
       "FloatProgress(value=0.0, bar_style='info', description='Progress:', layout=Layout(height='25px', width='50%'),…"
      ]
     },
     "metadata": {},
     "output_type": "display_data"
    },
    {
     "name": "stderr",
     "output_type": "stream",
     "text": [
      "Exception in thread cell_monitor-90:\n",
      "Traceback (most recent call last):\n",
      "  File \"/mnt/notebook-env/lib/python3.9/threading.py\", line 980, in _bootstrap_inner\n",
      "    self.run()\n",
      "  File \"/mnt/notebook-env/lib/python3.9/threading.py\", line 917, in run\n",
      "    self._target(*self._args, **self._kwargs)\n",
      "  File \"/mnt/notebook-env/lib/python3.9/site-packages/awseditorssparkmonitoringwidget/cellmonitor.py\", line 178, in cell_monitor\n",
      "    job_binned_stages[job_id][stage_id] = all_stages[stage_id]\n",
      "KeyError: 1993\n"
     ]
    },
    {
     "name": "stdout",
     "output_type": "stream",
     "text": [
      "Final dataframe shape: (1937749, 36)\n",
      "+-------------------+--------------+\n",
      "|Feature            |Missing_Values|\n",
      "+-------------------+--------------+\n",
      "|game_id            |0             |\n",
      "|club_id            |0             |\n",
      "|player_id          |0             |\n",
      "|player_name        |0             |\n",
      "|starting_status    |0             |\n",
      "|position           |0             |\n",
      "|team_captain       |0             |\n",
      "|minutes_played     |0             |\n",
      "|goals              |0             |\n",
      "|assists            |0             |\n",
      "|yellow_cards       |0             |\n",
      "|red_cards          |0             |\n",
      "|field_role         |0             |\n",
      "|height_in_cm       |0             |\n",
      "|foot               |0             |\n",
      "|market_value_in_eur|0             |\n",
      "|last_active_season |0             |\n",
      "|competition_id     |0             |\n",
      "|season             |0             |\n",
      "|competition_type   |0             |\n",
      "|home_club_id       |0             |\n",
      "|away_club_id       |0             |\n",
      "|home_club_formation|0             |\n",
      "|away_club_formation|0             |\n",
      "|squad_size         |0             |\n",
      "|average_age        |0             |\n",
      "|hosting            |0             |\n",
      "|home_team_standings|0             |\n",
      "|away_team_standings|0             |\n",
      "|is_win             |0             |\n",
      "|game_date_day      |0             |\n",
      "|game_date_month    |0             |\n",
      "|game_date_year     |0             |\n",
      "|date_of_birth_day  |0             |\n",
      "|date_of_birth_month|0             |\n",
      "|date_of_birth_year |0             |\n",
      "+-------------------+--------------+"
     ]
    }
   ],
   "source": [
    "# Drop missing values from critical features\n",
    "cleanedDF = final_df.dropna(subset=['player_id', 'game_id', 'club_id', 'competition_id', 'position', \n",
    "                                     'home_club_formation', 'away_club_formation', 'last_active_season'])\n",
    "\n",
    "# Average depending on the position\n",
    "window_spec = Window.partitionBy('position')\n",
    "performance_cols = ['minutes_played', 'goals', 'assists', 'yellow_cards', 'red_cards', 'height_in_cm', 'market_value_in_eur']\n",
    "for column in performance_cols:\n",
    "    cleanedDF = cleanedDF.withColumn(column, coalesce(col(column), avg(col(column)).over(window_spec)))\n",
    "\n",
    "# Median date of birth based on position\n",
    "cleanedDF = cleanedDF.withColumn('date_of_birth_day', coalesce(col('date_of_birth_day'), avg(col('date_of_birth_day')).over(window_spec)))\n",
    "cleanedDF = cleanedDF.withColumn('date_of_birth_month', coalesce(col('date_of_birth_month'), avg(col('date_of_birth_month')).over(window_spec)))\n",
    "cleanedDF = cleanedDF.withColumn('date_of_birth_year', coalesce(col('date_of_birth_year'), avg(col('date_of_birth_year')).over(window_spec)))\n",
    "\n",
    "# Global average\n",
    "global_avg_cols = ['squad_size', 'average_age']\n",
    "for col_name in global_avg_cols:\n",
    "    avg_value = cleanedDF.select(avg(col(col_name))).first()[0]\n",
    "    cleanedDF = cleanedDF.withColumn(col_name, coalesce(col(col_name), lit(avg_value)))\n",
    "\n",
    "# Assume not team captain\n",
    "cleanedDF = cleanedDF.withColumn('team_captain', \n",
    "    when(col('team_captain').isNull(), lit(False))\n",
    "    .when(col('team_captain') == '1', lit(True))\n",
    "    .when(col('team_captain') == '0', lit(False))\n",
    "    .otherwise(lit(False)))\n",
    "# cleanedDF = cleanedDF.withColumn('team_captain', when(col('team_captain').isNull(), lit(0)).otherwise(col('team_captain')))\n",
    "\n",
    "# Assign Unknown to foot\n",
    "cleanedDF = cleanedDF.withColumn('foot', coalesce(col('foot'), lit('Unknown')))\n",
    "\n",
    "# Average standings depending on competiton and season\n",
    "global_window = Window.partitionBy()\n",
    "standings_window = Window.partitionBy('competition_id', 'season')\n",
    "cleanedDF = cleanedDF.withColumn('home_team_standings', when(col('home_team_standings').isNull(), coalesce(\n",
    "            avg(col('home_team_standings')).over(standings_window), avg(col('home_team_standings')).over(global_window))).otherwise(col('home_team_standings')))\n",
    "cleanedDF = cleanedDF.withColumn('away_team_standings', when(col('away_team_standings').isNull(), coalesce(\n",
    "            avg(col('away_team_standings')).over(standings_window), avg(col('away_team_standings')).over(global_window))).otherwise(col('home_team_standings')))\n",
    "\n",
    "# See the missing values per row after this changes\n",
    "print(\"Final dataframe shape:\", (cleanedDF.count(), len(cleanedDF.columns)))\n",
    "null_counts = [(column, cleanedDF.filter(col(column).isNull()).count()) \n",
    "               for column in cleanedDF.columns]\n",
    "remaining_missing_values = spark.createDataFrame(null_counts, [\"Feature\", \"Missing_Values\"])\n",
    "remaining_missing_values.show(n=remaining_missing_values.count(), truncate=False)"
   ]
  },
  {
   "cell_type": "markdown",
   "id": "6e5619f9-1789-4c42-9c81-bf901b62ebb8",
   "metadata": {
    "tags": []
   },
   "source": [
    "## Athena"
   ]
  },
  {
   "cell_type": "markdown",
   "id": "f2bfbe1a-b5e7-45de-80a7-cc995258dc98",
   "metadata": {},
   "source": [
    "### Create the Table\n",
    "The command below was not creating the table for some reason. I printed the query, and copy/paste it to the athena editor and it worked. "
   ]
  },
  {
   "cell_type": "code",
   "execution_count": 64,
   "id": "a99a1e86-7b9d-42e0-a1be-2bedb5772ac4",
   "metadata": {
    "execution": {
     "iopub.execute_input": "2024-11-18T01:47:14.152741Z",
     "iopub.status.busy": "2024-11-18T01:47:14.152483Z",
     "iopub.status.idle": "2024-11-18T01:47:14.229872Z",
     "shell.execute_reply": "2024-11-18T01:47:14.228384Z",
     "shell.execute_reply.started": "2024-11-18T01:47:14.152713Z"
    },
    "tags": []
   },
   "outputs": [
    {
     "data": {
      "application/vnd.jupyter.widget-view+json": {
       "model_id": "309492bc1cef469eb5c049a084b963e0",
       "version_major": 2,
       "version_minor": 0
      },
      "text/plain": [
       "VBox()"
      ]
     },
     "metadata": {},
     "output_type": "display_data"
    },
    {
     "data": {
      "application/vnd.jupyter.widget-view+json": {
       "model_id": "",
       "version_major": 2,
       "version_minor": 0
      },
      "text/plain": [
       "FloatProgress(value=0.0, bar_style='info', description='Progress:', layout=Layout(height='25px', width='50%'),…"
      ]
     },
     "metadata": {},
     "output_type": "display_data"
    },
    {
     "name": "stdout",
     "output_type": "stream",
     "text": [
      "CREATE EXTERNAL TABLE IF NOT EXISTS `default`.`FinalProjectGael` (\n",
      "    game_id STRING,\n",
      "    club_id STRING,\n",
      "    player_id STRING,\n",
      "    player_name STRING,\n",
      "    starting_status STRING,\n",
      "    position STRING,\n",
      "    team_captain BOOLEAN,\n",
      "    minutes_played INT,\n",
      "    goals INT,\n",
      "    assists INT,\n",
      "    yellow_cards INT,\n",
      "    red_cards INT,\n",
      "    field_role STRING,\n",
      "    height_in_cm INT,\n",
      "    foot STRING,\n",
      "    market_value_in_eur DOUBLE,\n",
      "    last_active_season INT,\n",
      "    competition_id STRING,\n",
      "    season STRING,\n",
      "    competition_type STRING,\n",
      "    home_club_id STRING,\n",
      "    away_club_id STRING,\n",
      "    home_club_formation STRING,\n",
      "    away_club_formation STRING,\n",
      "    squad_size INT,\n",
      "    average_age DOUBLE,\n",
      "    hosting STRING,\n",
      "    home_team_standings INT,\n",
      "    away_team_standings INT,\n",
      "    is_win BOOLEAN,\n",
      "    game_date_day INT,\n",
      "    game_date_month INT,\n",
      "    game_date_year INT,\n",
      "    date_of_birth_day INT,\n",
      "    date_of_birth_month INT,\n",
      "    date_of_birth_year INT\n",
      ")\n",
      "ROW FORMAT DELIMITED\n",
      "FIELDS TERMINATED BY ','\n",
      "LOCATION 's3://final-project-gael-mota/athena'"
     ]
    }
   ],
   "source": [
    "# Athena configuration\n",
    "DATABASE_NAME = 'default'\n",
    "TABLE_NAME = 'FinalProjectGael'\n",
    "S3_BUCKET_NAME = 'final-project-gael-mota'\n",
    "AWS_REGION = 'us-east-1'\n",
    "\n",
    "# Initialize Athena client (no need to specify credentials)\n",
    "athena_client = boto3.client('athena', region_name=AWS_REGION)\n",
    "\n",
    "# Define the table creation query\n",
    "create_table_query = f\"\"\"\n",
    "CREATE EXTERNAL TABLE IF NOT EXISTS `{DATABASE_NAME}`.`{TABLE_NAME}` (\n",
    "    game_id STRING,\n",
    "    club_id STRING,\n",
    "    player_id STRING,\n",
    "    player_name STRING,\n",
    "    starting_status STRING,\n",
    "    position STRING,\n",
    "    team_captain BOOLEAN,\n",
    "    minutes_played INT,\n",
    "    goals INT,\n",
    "    assists INT,\n",
    "    yellow_cards INT,\n",
    "    red_cards INT,\n",
    "    field_role STRING,\n",
    "    height_in_cm INT,\n",
    "    foot STRING,\n",
    "    market_value_in_eur DOUBLE,\n",
    "    last_active_season INT,\n",
    "    competition_id STRING,\n",
    "    season STRING,\n",
    "    competition_type STRING,\n",
    "    home_club_id STRING,\n",
    "    away_club_id STRING,\n",
    "    home_club_formation STRING,\n",
    "    away_club_formation STRING,\n",
    "    squad_size INT,\n",
    "    average_age DOUBLE,\n",
    "    hosting STRING,\n",
    "    home_team_standings INT,\n",
    "    away_team_standings INT,\n",
    "    is_win BOOLEAN,\n",
    "    game_date_day INT,\n",
    "    game_date_month INT,\n",
    "    game_date_year INT,\n",
    "    date_of_birth_day INT,\n",
    "    date_of_birth_month INT,\n",
    "    date_of_birth_year INT\n",
    ")\n",
    "ROW FORMAT DELIMITED\n",
    "FIELDS TERMINATED BY ','\n",
    "LOCATION 's3://{S3_BUCKET_NAME}/athena'\n",
    "\"\"\"\n",
    "\n",
    "print(create_table_query.strip())"
   ]
  },
  {
   "cell_type": "markdown",
   "id": "b3e5f955-8496-4927-8447-e99ecddb5a87",
   "metadata": {},
   "source": [
    "### Save to CSV file"
   ]
  },
  {
   "cell_type": "code",
   "execution_count": 92,
   "id": "40840e05-4994-4d3c-be5f-0bc4dc1ee95f",
   "metadata": {
    "execution": {
     "iopub.execute_input": "2024-11-18T02:59:32.251457Z",
     "iopub.status.busy": "2024-11-18T02:59:32.250456Z",
     "iopub.status.idle": "2024-11-18T03:01:08.126997Z",
     "shell.execute_reply": "2024-11-18T03:01:08.126147Z",
     "shell.execute_reply.started": "2024-11-18T02:59:32.251419Z"
    },
    "tags": []
   },
   "outputs": [
    {
     "data": {
      "application/vnd.jupyter.widget-view+json": {
       "model_id": "61c6dc2cf19b42619d9798d5d3aac135",
       "version_major": 2,
       "version_minor": 0
      },
      "text/plain": [
       "VBox()"
      ]
     },
     "metadata": {},
     "output_type": "display_data"
    },
    {
     "data": {
      "application/vnd.jupyter.widget-view+json": {
       "model_id": "",
       "version_major": 2,
       "version_minor": 0
      },
      "text/plain": [
       "FloatProgress(value=0.0, bar_style='info', description='Progress:', layout=Layout(height='25px', width='50%'),…"
      ]
     },
     "metadata": {},
     "output_type": "display_data"
    },
    {
     "name": "stdout",
     "output_type": "stream",
     "text": [
      "Output saved to S3!"
     ]
    }
   ],
   "source": [
    "# Write the dataframe to a CSV file\n",
    "output_path = 's3://final-project-gael-mota/athena/cleaned_soccer_data'\n",
    "cleanedDF.write.csv(output_path, header=False, mode=\"overwrite\")\n",
    "print(\"Output saved to S3!\")"
   ]
  },
  {
   "cell_type": "markdown",
   "id": "46cab637-4c50-4613-b266-a0bd9a603222",
   "metadata": {},
   "source": [
    "## Data Exploration"
   ]
  },
  {
   "cell_type": "markdown",
   "id": "8432c7fe-faf0-43df-912b-1680ff53ced9",
   "metadata": {},
   "source": [
    "### Starting Status Distribution"
   ]
  },
  {
   "cell_type": "raw",
   "id": "722b3cc9-56bf-48ac-8afa-9314a86ce175",
   "metadata": {},
   "source": [
    "Query to find the distribution of the target variable, in this case starting_status.\n",
    "\n",
    "CREATE TABLE europe_players_2024\n",
    "WITH (\n",
    "    external_location = 's3://final-project-gael-mota/athena/europe_players_2024/',\n",
    "    format = 'CSV'\n",
    ")\n",
    "AS\n",
    "SELECT \n",
    "    CAST(game_id AS VARCHAR) AS game_id,\n",
    "    CAST(club_id AS VARCHAR) AS club_id,\n",
    "    CAST(player_id AS VARCHAR) AS player_id,\n",
    "    CAST(player_name AS VARCHAR) AS player_name,\n",
    "    CAST(starting_status AS VARCHAR) AS starting_status,\n",
    "    CAST(position AS VARCHAR) AS position,\n",
    "    CAST(team_captain AS VARCHAR) AS team_captain,\n",
    "    CAST(minutes_played AS VARCHAR) AS minutes_played,\n",
    "    CAST(goals AS VARCHAR) AS goals,\n",
    "    CAST(assists AS VARCHAR) AS assists,\n",
    "    CAST(yellow_cards AS VARCHAR) AS yellow_cards,\n",
    "    CAST(red_cards AS VARCHAR) AS red_cards,\n",
    "    CAST(field_role AS VARCHAR) AS field_role,\n",
    "    CAST(height_in_cm AS VARCHAR) AS height_in_cm,\n",
    "    CAST(foot AS VARCHAR) AS foot,\n",
    "    CAST(market_value_in_eur AS VARCHAR) AS market_value_in_eur,\n",
    "    CAST(last_active_season AS VARCHAR) AS last_active_season,\n",
    "    CAST(competition_id AS VARCHAR) AS competition_id,\n",
    "    CAST(season AS VARCHAR) AS season,\n",
    "    CAST(competition_type AS VARCHAR) AS competition_type,\n",
    "    CAST(home_club_id AS VARCHAR) AS home_club_id,\n",
    "    CAST(away_club_id AS VARCHAR) AS away_club_id,\n",
    "    CAST(home_club_formation AS VARCHAR) AS home_club_formation,\n",
    "    CAST(away_club_formation AS VARCHAR) AS away_club_formation,\n",
    "    CAST(squad_size AS VARCHAR) AS squad_size,\n",
    "    CAST(average_age AS VARCHAR) AS average_age,\n",
    "    CAST(hosting AS VARCHAR) AS hosting,\n",
    "    CAST(home_team_standings AS VARCHAR) AS home_team_standings,\n",
    "    CAST(away_team_standings AS VARCHAR) AS away_team_standings,\n",
    "    CAST(is_win AS VARCHAR) AS is_win,\n",
    "    CAST(game_date_day AS VARCHAR) AS game_date_day,\n",
    "    CAST(game_date_month AS VARCHAR) AS game_date_month,\n",
    "    CAST(game_date_year AS VARCHAR) AS game_date_year,\n",
    "    CAST(date_of_birth_day AS VARCHAR) AS date_of_birth_day,\n",
    "    CAST(date_of_birth_month AS VARCHAR) AS date_of_birth_month,\n",
    "    CAST(date_of_birth_year AS VARCHAR) AS date_of_birth_year\n",
    "FROM default.finalprojectgael\n",
    "WHERE last_active_season = 2024;"
   ]
  },
  {
   "cell_type": "code",
   "execution_count": 21,
   "id": "6910d5e3-fa09-460f-ba68-bdd50f491a51",
   "metadata": {
    "execution": {
     "iopub.execute_input": "2024-11-18T05:29:58.683800Z",
     "iopub.status.busy": "2024-11-18T05:29:58.683513Z",
     "iopub.status.idle": "2024-11-18T05:30:00.977324Z",
     "shell.execute_reply": "2024-11-18T05:30:00.976459Z",
     "shell.execute_reply.started": "2024-11-18T05:29:58.683767Z"
    },
    "tags": []
   },
   "outputs": [
    {
     "data": {
      "application/vnd.jupyter.widget-view+json": {
       "model_id": "aa4d3868d3184ba18f9f8adc07d98a74",
       "version_major": 2,
       "version_minor": 0
      },
      "text/plain": [
       "VBox()"
      ]
     },
     "metadata": {},
     "output_type": "display_data"
    },
    {
     "data": {
      "application/vnd.jupyter.widget-view+json": {
       "model_id": "",
       "version_major": 2,
       "version_minor": 0
      },
      "text/plain": [
       "FloatProgress(value=0.0, bar_style='info', description='Progress:', layout=Layout(height='25px', width='50%'),…"
      ]
     },
     "metadata": {},
     "output_type": "display_data"
    },
    {
     "name": "stdout",
     "output_type": "stream",
     "text": [
      "{'ResponseMetadata': {'RequestId': 'QESFEB8F7M7JXZN4', 'HostId': 'P7S3WKHqQZpQEjXkc4KEwncpl6uH0DafMKGvjMVQz4KTtWR55kwMQR/LCv1Sa2QGgzpsM72pk5qB6PFOEW2RUw==', 'HTTPStatusCode': 200, 'HTTPHeaders': {'x-amz-id-2': 'P7S3WKHqQZpQEjXkc4KEwncpl6uH0DafMKGvjMVQz4KTtWR55kwMQR/LCv1Sa2QGgzpsM72pk5qB6PFOEW2RUw==', 'x-amz-request-id': 'QESFEB8F7M7JXZN4', 'date': 'Mon, 18 Nov 2024 05:30:01 GMT', 'x-amz-server-side-encryption': 'AES256', 'etag': '\"0d1f8e66a6c595e6532d53ce9e180cac\"', 'content-length': '0', 'server': 'AmazonS3'}, 'RetryAttempts': 0}, 'ETag': '\"0d1f8e66a6c595e6532d53ce9e180cac\"', 'ServerSideEncryption': 'AES256'}"
     ]
    }
   ],
   "source": [
    "starting_status = spark.read.csv(\"s3://final-project-gael-mota/athena/exploratory_tables/starting_status_distribution_raw/*.gz\", \n",
    "                        header=False, inferSchema=True)\n",
    "\n",
    "# Converting to Pandas DF\n",
    "starting_status_pandas = starting_status.toPandas()\n",
    "\n",
    "# Plotting a histogram\n",
    "plt.figure(figsize=(12, 8))\n",
    "bar_plot = sns.barplot(data=starting_status_pandas, y='_c1', x='_c0')\n",
    "plt.title(\"Starting XI Player's Status Distribution\")\n",
    "plt.xlabel('Status')\n",
    "plt.ylabel('Count')\n",
    "plt.tight_layout()\n",
    "\n",
    "buffer = io.BytesIO()\n",
    "plt.savefig(buffer, format='png', dpi=300, bbox_inches='tight')\n",
    "buffer.seek(0)\n",
    "img_data = buffer.getvalue()\n",
    "\n",
    "s3_client = boto3.client('s3')\n",
    "s3_client.put_object(\n",
    "    Body=img_data,\n",
    "    Bucket=\"final-project-gael-mota\",\n",
    "    Key=\"visualizations/StartingStatus.png\",\n",
    "    ContentType='image/png'\n",
    ")"
   ]
  },
  {
   "cell_type": "markdown",
   "id": "6fa016c3-bc7f-47c7-9460-e257c31a9fb2",
   "metadata": {},
   "source": [
    "### Player's Age Distribution"
   ]
  },
  {
   "cell_type": "raw",
   "id": "c26b1876-d5d4-4b04-848f-7703681f50f5",
   "metadata": {},
   "source": [
    "Query to collect the necessary information to explore the Player's Age Distribution\n",
    "\n",
    "CREATE TABLE players_age_distribution\n",
    "WITH (\n",
    "    external_location = 's3://final-project-gael-mota/athena/exploratory_tables/players_age_distribution/',\n",
    "    format = 'CSV'\n",
    ") AS\n",
    "WITH age_calc AS (\n",
    "    SELECT \n",
    "        player_id,\n",
    "        2024 - date_of_birth_year - \n",
    "        CASE \n",
    "            WHEN date_of_birth_month > 11 OR \n",
    "                 (date_of_birth_month = 11 AND date_of_birth_day > 17)\n",
    "            THEN 1\n",
    "            ELSE 0\n",
    "        END as calculated_age\n",
    "    FROM default.finalprojectgael\n",
    ")\n",
    "SELECT \n",
    "    CAST(calculated_age AS VARCHAR) as age,\n",
    "    CAST(COUNT(DISTINCT player_id) AS VARCHAR) as player_count\n",
    "FROM age_calc\n",
    "GROUP BY calculated_age\n",
    "ORDER BY calculated_age;"
   ]
  },
  {
   "cell_type": "code",
   "execution_count": 22,
   "id": "88cb452e-044e-4d23-bf05-4ffd9f4c0075",
   "metadata": {
    "execution": {
     "iopub.execute_input": "2024-11-18T05:30:02.281423Z",
     "iopub.status.busy": "2024-11-18T05:30:02.281192Z",
     "iopub.status.idle": "2024-11-18T05:30:04.593859Z",
     "shell.execute_reply": "2024-11-18T05:30:04.593158Z",
     "shell.execute_reply.started": "2024-11-18T05:30:02.281396Z"
    },
    "tags": []
   },
   "outputs": [
    {
     "data": {
      "application/vnd.jupyter.widget-view+json": {
       "model_id": "16fcec525c704d39861047632bd0210f",
       "version_major": 2,
       "version_minor": 0
      },
      "text/plain": [
       "VBox()"
      ]
     },
     "metadata": {},
     "output_type": "display_data"
    },
    {
     "data": {
      "application/vnd.jupyter.widget-view+json": {
       "model_id": "",
       "version_major": 2,
       "version_minor": 0
      },
      "text/plain": [
       "FloatProgress(value=0.0, bar_style='info', description='Progress:', layout=Layout(height='25px', width='50%'),…"
      ]
     },
     "metadata": {},
     "output_type": "display_data"
    },
    {
     "name": "stdout",
     "output_type": "stream",
     "text": [
      "{'ResponseMetadata': {'RequestId': 'T7CAE4VNG6B5VQJQ', 'HostId': '/8fLWthEw6rKrKfuSWxuxnkrqyf1i7eeQRjawclCnUPd2fKzcPbC0J1v3+11BYRYOdXnXZZhSMKVgFUCZvrJaFyVS5toZQ9e2xWCxn46S4I=', 'HTTPStatusCode': 200, 'HTTPHeaders': {'x-amz-id-2': '/8fLWthEw6rKrKfuSWxuxnkrqyf1i7eeQRjawclCnUPd2fKzcPbC0J1v3+11BYRYOdXnXZZhSMKVgFUCZvrJaFyVS5toZQ9e2xWCxn46S4I=', 'x-amz-request-id': 'T7CAE4VNG6B5VQJQ', 'date': 'Mon, 18 Nov 2024 05:30:04 GMT', 'x-amz-server-side-encryption': 'AES256', 'etag': '\"ba4096daf405eb3799090475619abf37\"', 'content-length': '0', 'server': 'AmazonS3'}, 'RetryAttempts': 0}, 'ETag': '\"ba4096daf405eb3799090475619abf37\"', 'ServerSideEncryption': 'AES256'}"
     ]
    }
   ],
   "source": [
    "# Loading the data\n",
    "age_df = spark.read.csv(\"s3://final-project-gael-mota/athena/exploratory_tables/players_age_distribution/*.gz\", \n",
    "                        header=False, inferSchema=True)\n",
    "\n",
    "# Converting to Pandas DF\n",
    "age_pandas = age_df.toPandas()\n",
    "\n",
    "# Plotting a histogram\n",
    "plt.figure(figsize=(12, 8))\n",
    "bar_plot = sns.barplot(data=age_pandas, y='_c1', x='_c0')\n",
    "plt.title(\"Player's Age Distribution\")\n",
    "plt.xlabel('Age')\n",
    "plt.ylabel('Count')\n",
    "plt.tight_layout()\n",
    "\n",
    "buffer = io.BytesIO()\n",
    "plt.savefig(buffer, format='png', dpi=300, bbox_inches='tight')\n",
    "buffer.seek(0)\n",
    "img_data = buffer.getvalue()\n",
    "\n",
    "s3_client = boto3.client('s3')\n",
    "s3_client.put_object(\n",
    "    Body=img_data,\n",
    "    Bucket=\"final-project-gael-mota\",\n",
    "    Key=\"visualizations/AgeDistribution.png\",\n",
    "    ContentType='image/png'\n",
    ")"
   ]
  },
  {
   "cell_type": "markdown",
   "id": "43eb549c-a8d0-40c8-b1ed-21aea0af150f",
   "metadata": {},
   "source": [
    "### Active Player's Age Distribution"
   ]
  },
  {
   "cell_type": "raw",
   "id": "d0bea684-07e3-4930-a3be-6ad7e7ee95b7",
   "metadata": {},
   "source": [
    "Query to collect the necessary information to explore the Active Player's Age Distribution. This means players that were active during the 2024 season.\n",
    "\n",
    "CREATE TABLE last_active_season_players_age_distribution\n",
    "WITH (\n",
    "    external_location = 's3://final-project-gael-mota/athena/exploratory_tables/last_active_season_players_age_distribution/',\n",
    "    format = 'CSV'\n",
    ") AS\n",
    "WITH age_calc AS (\n",
    "    SELECT \n",
    "        player_id,\n",
    "        2024 - date_of_birth_year - \n",
    "        CASE \n",
    "            WHEN date_of_birth_month > 11 OR \n",
    "                 (date_of_birth_month = 11 AND date_of_birth_day > 17)\n",
    "            THEN 1\n",
    "            ELSE 0\n",
    "        END as calculated_age\n",
    "    FROM default.finalprojectgael\n",
    "    WHERE last_active_season = 2024\n",
    ")\n",
    "SELECT \n",
    "    CAST(calculated_age AS VARCHAR) as age,\n",
    "    CAST(COUNT(DISTINCT player_id) AS VARCHAR) as player_count\n",
    "FROM age_calc\n",
    "GROUP BY calculated_age\n",
    "ORDER BY calculated_age;"
   ]
  },
  {
   "cell_type": "code",
   "execution_count": 23,
   "id": "577665df-5817-4857-8c6e-dac6e6146e88",
   "metadata": {
    "execution": {
     "iopub.execute_input": "2024-11-18T05:30:08.041042Z",
     "iopub.status.busy": "2024-11-18T05:30:08.040763Z",
     "iopub.status.idle": "2024-11-18T05:30:10.338227Z",
     "shell.execute_reply": "2024-11-18T05:30:10.337189Z",
     "shell.execute_reply.started": "2024-11-18T05:30:08.041012Z"
    },
    "tags": []
   },
   "outputs": [
    {
     "data": {
      "application/vnd.jupyter.widget-view+json": {
       "model_id": "c8c8bdd0ef8e4e678531357913e4325a",
       "version_major": 2,
       "version_minor": 0
      },
      "text/plain": [
       "VBox()"
      ]
     },
     "metadata": {},
     "output_type": "display_data"
    },
    {
     "data": {
      "application/vnd.jupyter.widget-view+json": {
       "model_id": "",
       "version_major": 2,
       "version_minor": 0
      },
      "text/plain": [
       "FloatProgress(value=0.0, bar_style='info', description='Progress:', layout=Layout(height='25px', width='50%'),…"
      ]
     },
     "metadata": {},
     "output_type": "display_data"
    },
    {
     "name": "stdout",
     "output_type": "stream",
     "text": [
      "{'ResponseMetadata': {'RequestId': 'MCZG0FJSRNXKV0S8', 'HostId': 'BAWPe9pVL4UJcqGI+jMhmR2lQAxMJL6B0GhuZkK0DmWGXOc8pcqOyCb+BqnZ4KzBYoScbCsWNIe9jSTfj3hVr2IT4Tydofuf', 'HTTPStatusCode': 200, 'HTTPHeaders': {'x-amz-id-2': 'BAWPe9pVL4UJcqGI+jMhmR2lQAxMJL6B0GhuZkK0DmWGXOc8pcqOyCb+BqnZ4KzBYoScbCsWNIe9jSTfj3hVr2IT4Tydofuf', 'x-amz-request-id': 'MCZG0FJSRNXKV0S8', 'date': 'Mon, 18 Nov 2024 05:30:10 GMT', 'x-amz-server-side-encryption': 'AES256', 'etag': '\"f8d9197ce8257206cc8a4f65737ebe21\"', 'content-length': '0', 'server': 'AmazonS3'}, 'RetryAttempts': 0}, 'ETag': '\"f8d9197ce8257206cc8a4f65737ebe21\"', 'ServerSideEncryption': 'AES256'}"
     ]
    }
   ],
   "source": [
    "# Loading the data\n",
    "active_age_df = spark.read.csv(\"s3://final-project-gael-mota/athena/exploratory_tables/last_active_season_players_age_distribution/*.gz\", \n",
    "                        header=False, inferSchema=True)\n",
    "\n",
    "# Converting to Pandas DF\n",
    "active_age_pandas = active_age_df.toPandas()\n",
    "\n",
    "# Plotting a histogram\n",
    "plt.figure(figsize=(12, 8))\n",
    "bar_plot = sns.barplot(data=active_age_pandas, y='_c1', x='_c0')\n",
    "plt.title(\"Active Player's Age Distribution\")\n",
    "plt.xlabel('Age')\n",
    "plt.ylabel('Count')\n",
    "plt.tight_layout()\n",
    "\n",
    "buffer = io.BytesIO()\n",
    "plt.savefig(buffer, format='png', dpi=300, bbox_inches='tight')\n",
    "buffer.seek(0)\n",
    "img_data = buffer.getvalue()\n",
    "\n",
    "s3_client = boto3.client('s3')\n",
    "s3_client.put_object(\n",
    "    Body=img_data,\n",
    "    Bucket=\"final-project-gael-mota\",\n",
    "    Key=\"visualizations/ActivePlayersAgeDistribution.png\",\n",
    "    ContentType='image/png'\n",
    ")"
   ]
  },
  {
   "cell_type": "markdown",
   "id": "c0460f20-7547-43ca-a708-8588d8475cce",
   "metadata": {},
   "source": [
    "## ML Classifier Training"
   ]
  },
  {
   "cell_type": "code",
   "execution_count": 11,
   "id": "42456254-826b-4c62-9feb-d796a001518f",
   "metadata": {
    "execution": {
     "iopub.execute_input": "2024-11-18T08:36:58.925326Z",
     "iopub.status.busy": "2024-11-18T08:36:58.925085Z",
     "iopub.status.idle": "2024-11-18T08:37:38.890962Z",
     "shell.execute_reply": "2024-11-18T08:37:38.890074Z",
     "shell.execute_reply.started": "2024-11-18T08:36:58.925297Z"
    },
    "tags": []
   },
   "outputs": [
    {
     "data": {
      "application/vnd.jupyter.widget-view+json": {
       "model_id": "cd065484cd574dcb9d5fa2d2caba6aa0",
       "version_major": 2,
       "version_minor": 0
      },
      "text/plain": [
       "VBox()"
      ]
     },
     "metadata": {},
     "output_type": "display_data"
    },
    {
     "data": {
      "application/vnd.jupyter.widget-view+json": {
       "model_id": "",
       "version_major": 2,
       "version_minor": 0
      },
      "text/plain": [
       "FloatProgress(value=0.0, bar_style='info', description='Progress:', layout=Layout(height='25px', width='50%'),…"
      ]
     },
     "metadata": {},
     "output_type": "display_data"
    }
   ],
   "source": [
    "# Difine schema\n",
    "schema = StructType([\n",
    "    StructField(\"game_id\", StringType(), True),\n",
    "    StructField(\"club_id\", StringType(), True),\n",
    "    StructField(\"player_id\", StringType(), True),\n",
    "    StructField(\"player_name\", StringType(), True),\n",
    "    StructField(\"starting_status\", StringType(), True),\n",
    "    StructField(\"position\", StringType(), True),\n",
    "    StructField(\"team_captain\", BooleanType(), True),\n",
    "    StructField(\"minutes_played\", IntegerType(), True),\n",
    "    StructField(\"goals\", IntegerType(), True),\n",
    "    StructField(\"assists\", IntegerType(), True),\n",
    "    StructField(\"yellow_cards\", IntegerType(), True),\n",
    "    StructField(\"red_cards\", IntegerType(), True),\n",
    "    StructField(\"field_role\", StringType(), True),\n",
    "    StructField(\"height_in_cm\", IntegerType(), True),\n",
    "    StructField(\"foot\", StringType(), True),\n",
    "    StructField(\"market_value_in_eur\", FloatType(), True),\n",
    "    StructField(\"last_active_season\", IntegerType(), True),\n",
    "    StructField(\"competition_id\", StringType(), True),\n",
    "    StructField(\"season\", StringType(), True),\n",
    "    StructField(\"competition_type\", StringType(), True),\n",
    "    StructField(\"home_club_id\", StringType(), True),\n",
    "    StructField(\"away_club_id\", StringType(), True),\n",
    "    StructField(\"home_club_formation\", StringType(), True),\n",
    "    StructField(\"away_club_formation\", StringType(), True),\n",
    "    StructField(\"squad_size\", IntegerType(), True),\n",
    "    StructField(\"average_age\", FloatType(), True),\n",
    "    StructField(\"hosting\", StringType(), True),\n",
    "    StructField(\"home_team_standings\", IntegerType(), True),\n",
    "    StructField(\"away_team_standings\", IntegerType(), True),\n",
    "    StructField(\"is_win\", BooleanType(), True),\n",
    "    StructField(\"game_date_day\", IntegerType(), True),\n",
    "    StructField(\"game_date_month\", IntegerType(), True),\n",
    "    StructField(\"game_date_year\", IntegerType(), True),\n",
    "    StructField(\"date_of_birth_day\", IntegerType(), True),\n",
    "    StructField(\"date_of_birth_month\", IntegerType(), True),\n",
    "    StructField(\"date_of_birth_year\", IntegerType(), True)\n",
    "])\n",
    "\n",
    "# Loading the data\n",
    "df = spark.read.csv(\"s3://final-project-gael-mota/athena/europe_players_2024/*.gz\", header=False, schema=schema)\n",
    "\n",
    "# Converting to Pandas DF\n",
    "df = df.toPandas()"
   ]
  },
  {
   "cell_type": "markdown",
   "id": "7b83527d-3f4f-49d5-b618-10526b1dda1e",
   "metadata": {},
   "source": [
    "## Feature Engineering"
   ]
  },
  {
   "cell_type": "code",
   "execution_count": 12,
   "id": "00566a74-6d93-4978-910e-1fc167ad0b4f",
   "metadata": {
    "execution": {
     "iopub.execute_input": "2024-11-18T08:38:18.757717Z",
     "iopub.status.busy": "2024-11-18T08:38:18.757386Z",
     "iopub.status.idle": "2024-11-18T08:38:24.132254Z",
     "shell.execute_reply": "2024-11-18T08:38:24.131547Z",
     "shell.execute_reply.started": "2024-11-18T08:38:18.757676Z"
    },
    "tags": []
   },
   "outputs": [
    {
     "data": {
      "application/vnd.jupyter.widget-view+json": {
       "model_id": "22fdf9dd8f724a509f3ba7b36ba5cfad",
       "version_major": 2,
       "version_minor": 0
      },
      "text/plain": [
       "VBox()"
      ]
     },
     "metadata": {},
     "output_type": "display_data"
    },
    {
     "data": {
      "application/vnd.jupyter.widget-view+json": {
       "model_id": "",
       "version_major": 2,
       "version_minor": 0
      },
      "text/plain": [
       "FloatProgress(value=0.0, bar_style='info', description='Progress:', layout=Layout(height='25px', width='50%'),…"
      ]
     },
     "metadata": {},
     "output_type": "display_data"
    }
   ],
   "source": [
    "# Create game_date\n",
    "df['game_date'] = pd.to_datetime(\n",
    "    df[['game_date_year', 'game_date_month', 'game_date_day']].astype(str).agg('-'.join, axis=1))\n",
    "\n",
    "# Sort data by player and date (important for rolling statistics)\n",
    "df = df.sort_values(['player_id', 'game_date'])"
   ]
  },
  {
   "cell_type": "code",
   "execution_count": 66,
   "id": "dae93744-01b2-49a1-98f9-d666dcb91845",
   "metadata": {
    "execution": {
     "iopub.execute_input": "2024-11-18T10:01:54.072420Z",
     "iopub.status.busy": "2024-11-18T10:01:54.072166Z",
     "iopub.status.idle": "2024-11-18T10:01:55.390786Z",
     "shell.execute_reply": "2024-11-18T10:01:55.390052Z",
     "shell.execute_reply.started": "2024-11-18T10:01:54.072391Z"
    },
    "tags": []
   },
   "outputs": [
    {
     "data": {
      "application/vnd.jupyter.widget-view+json": {
       "model_id": "18da5a78533d448f94bde5332e71e8ab",
       "version_major": 2,
       "version_minor": 0
      },
      "text/plain": [
       "VBox()"
      ]
     },
     "metadata": {},
     "output_type": "display_data"
    },
    {
     "data": {
      "application/vnd.jupyter.widget-view+json": {
       "model_id": "",
       "version_major": 2,
       "version_minor": 0
      },
      "text/plain": [
       "FloatProgress(value=0.0, bar_style='info', description='Progress:', layout=Layout(height='25px', width='50%'),…"
      ]
     },
     "metadata": {},
     "output_type": "display_data"
    }
   ],
   "source": [
    "# Performance metrics\n",
    "df['goals'] = df['goals'].fillna(0)\n",
    "\n",
    "# Mask to calculate the metrics per game\n",
    "minutes_played_mask = df['minutes_played'].astype(float) > 0\n",
    "\n",
    "# Total minutes played\n",
    "df['total_minutes_played'] = df.groupby('player_id')['minutes_played'].transform('sum')\n",
    "\n",
    "# Goals per game\n",
    "df['goals_per_game'] = np.where(minutes_played_mask, df['goals'].astype(float) * 90 / df['minutes_played'].astype(float), 0)\n",
    "# Total Goals \n",
    "df['total_goals'] = df.groupby('player_id')['goals'].transform('sum')\n",
    "\n",
    "# Assists per game\n",
    "df['assists_per_game'] = np.where(minutes_played_mask, df['assists'].astype(float) * 90 / df['minutes_played'].astype(float), 0)\n",
    "# Total assists\n",
    "df['total_assists'] = df.groupby('player_id')['assists'].transform('sum')\n",
    "\n",
    "# Contributions (goals + assits)\n",
    "df['goal_contributions'] = df['goals'] + df['assists']\n",
    "\n",
    "# Cards per game\n",
    "df['cards_per_game'] = np.where(minutes_played_mask, (df['yellow_cards'].astype(float) + df['red_cards'].astype(float) * 2) * 90 / df['minutes_played'].astype(float), 0)\n",
    "# Total cards\n",
    "df['total_cards'] = df.groupby('player_id')['yellow_cards'].transform('sum') + df.groupby('player_id')['red_cards'].transform('sum')"
   ]
  },
  {
   "cell_type": "code",
   "execution_count": 32,
   "id": "3414a58a-a24f-4d48-99af-e1cd1ec50cdf",
   "metadata": {
    "execution": {
     "iopub.execute_input": "2024-11-18T09:03:17.099489Z",
     "iopub.status.busy": "2024-11-18T09:03:17.099058Z",
     "iopub.status.idle": "2024-11-18T09:03:19.448385Z",
     "shell.execute_reply": "2024-11-18T09:03:19.447076Z",
     "shell.execute_reply.started": "2024-11-18T09:03:17.099403Z"
    },
    "tags": []
   },
   "outputs": [
    {
     "data": {
      "application/vnd.jupyter.widget-view+json": {
       "model_id": "0b64210da3654b5c86f4135629fbf337",
       "version_major": 2,
       "version_minor": 0
      },
      "text/plain": [
       "VBox()"
      ]
     },
     "metadata": {},
     "output_type": "display_data"
    },
    {
     "data": {
      "application/vnd.jupyter.widget-view+json": {
       "model_id": "",
       "version_major": 2,
       "version_minor": 0
      },
      "text/plain": [
       "FloatProgress(value=0.0, bar_style='info', description='Progress:', layout=Layout(height='25px', width='50%'),…"
      ]
     },
     "metadata": {},
     "output_type": "display_data"
    }
   ],
   "source": [
    "# Starting XI percentage in previous games\n",
    "df['is_starting'] = (df['starting_status'] == 'starting_lineup').astype(int)\n",
    "window_size = 5\n",
    "\n",
    "# Percentage of previous games as starter\n",
    "df['prev_starts_pct'] = df.groupby('player_id')['is_starting'].transform(\n",
    "    lambda x: x.rolling(window=window_size, min_periods=1).mean()).shift(1).fillna(0)"
   ]
  },
  {
   "cell_type": "code",
   "execution_count": 15,
   "id": "590638c7-9167-4f3b-be6a-24a9fb80f369",
   "metadata": {
    "execution": {
     "iopub.execute_input": "2024-11-18T08:38:38.325954Z",
     "iopub.status.busy": "2024-11-18T08:38:38.325710Z",
     "iopub.status.idle": "2024-11-18T08:38:38.398267Z",
     "shell.execute_reply": "2024-11-18T08:38:38.397528Z",
     "shell.execute_reply.started": "2024-11-18T08:38:38.325926Z"
    },
    "tags": []
   },
   "outputs": [
    {
     "data": {
      "application/vnd.jupyter.widget-view+json": {
       "model_id": "4a7e50fef7204729b5b877b095f31a01",
       "version_major": 2,
       "version_minor": 0
      },
      "text/plain": [
       "VBox()"
      ]
     },
     "metadata": {},
     "output_type": "display_data"
    },
    {
     "data": {
      "application/vnd.jupyter.widget-view+json": {
       "model_id": "",
       "version_major": 2,
       "version_minor": 0
      },
      "text/plain": [
       "FloatProgress(value=0.0, bar_style='info', description='Progress:', layout=Layout(height='25px', width='50%'),…"
      ]
     },
     "metadata": {},
     "output_type": "display_data"
    }
   ],
   "source": [
    "# Age calculation \n",
    "df['age'] = (df['game_date_year'].astype(int) - df['date_of_birth_year'].astype(int))\n",
    "\n",
    "# Age categorization\n",
    "df['age_category'] = pd.cut(df['age'], bins=[0, 22, 30, float('inf')], labels=['rookie', 'prime', 'older'], right=False)"
   ]
  },
  {
   "cell_type": "code",
   "execution_count": 16,
   "id": "dd91f067-ebfc-4758-8757-107e6fd6d6c6",
   "metadata": {
    "execution": {
     "iopub.execute_input": "2024-11-18T08:38:39.505682Z",
     "iopub.status.busy": "2024-11-18T08:38:39.505442Z",
     "iopub.status.idle": "2024-11-18T08:38:39.593032Z",
     "shell.execute_reply": "2024-11-18T08:38:39.591517Z",
     "shell.execute_reply.started": "2024-11-18T08:38:39.505654Z"
    },
    "tags": []
   },
   "outputs": [
    {
     "data": {
      "application/vnd.jupyter.widget-view+json": {
       "model_id": "c29f3521be9747f5a7edee1c110f78e7",
       "version_major": 2,
       "version_minor": 0
      },
      "text/plain": [
       "VBox()"
      ]
     },
     "metadata": {},
     "output_type": "display_data"
    },
    {
     "data": {
      "application/vnd.jupyter.widget-view+json": {
       "model_id": "",
       "version_major": 2,
       "version_minor": 0
      },
      "text/plain": [
       "FloatProgress(value=0.0, bar_style='info', description='Progress:', layout=Layout(height='25px', width='50%'),…"
      ]
     },
     "metadata": {},
     "output_type": "display_data"
    }
   ],
   "source": [
    "# Market value tiers\n",
    "df['market_value_in_eur'] = pd.to_numeric(df['market_value_in_eur'])\n",
    "df['market_value_tier'] = pd.qcut(df['market_value_in_eur'], q=5, labels=['Very Low', 'Low', 'Medium', 'High', 'Very High'])"
   ]
  },
  {
   "cell_type": "code",
   "execution_count": 22,
   "id": "2927ced8-5a5c-412a-ac2c-a77ceab1e3f1",
   "metadata": {
    "execution": {
     "iopub.execute_input": "2024-11-18T08:42:05.391242Z",
     "iopub.status.busy": "2024-11-18T08:42:05.390957Z",
     "iopub.status.idle": "2024-11-18T08:42:08.704143Z",
     "shell.execute_reply": "2024-11-18T08:42:08.703326Z",
     "shell.execute_reply.started": "2024-11-18T08:42:05.391210Z"
    },
    "tags": []
   },
   "outputs": [
    {
     "data": {
      "application/vnd.jupyter.widget-view+json": {
       "model_id": "0f2d5fc06ba44279b57b53ff6be6ae5d",
       "version_major": 2,
       "version_minor": 0
      },
      "text/plain": [
       "VBox()"
      ]
     },
     "metadata": {},
     "output_type": "display_data"
    },
    {
     "data": {
      "application/vnd.jupyter.widget-view+json": {
       "model_id": "",
       "version_major": 2,
       "version_minor": 0
      },
      "text/plain": [
       "FloatProgress(value=0.0, bar_style='info', description='Progress:', layout=Layout(height='25px', width='50%'),…"
      ]
     },
     "metadata": {},
     "output_type": "display_data"
    }
   ],
   "source": [
    "# Formation compatibility to position\n",
    "df['home_club_formation'] = df['home_club_formation'].apply(lambda x: re.search(r'\\d-\\d-\\d(?:-\\d)?', x).group(0))\n",
    "\n",
    "defenders = np.array([int(f.split('-')[0]) for f in df['home_club_formation']])\n",
    "forwards = np.array([int(f.split('-')[-1]) for f in df['home_club_formation']])\n",
    "midfielders = np.array([\n",
    "    int(f.split('-')[1]) if len(f.split('-')) == 3 \n",
    "    else int(f.split('-')[1]) + int(f.split('-')[2]) \n",
    "    for f in df['home_club_formation']\n",
    "])\n",
    "\n",
    "# Calculate compatibility\n",
    "df['formation_compatibility'] = np.select(\n",
    "    condlist=[\n",
    "        df['field_role'] == 'goalkeeper',\n",
    "        df['field_role'] == 'Defender',\n",
    "        df['field_role'] == 'Midfield',\n",
    "        df['field_role'] == 'Attack'],\n",
    "    choicelist=[\n",
    "        1.0,\n",
    "        defenders / 11,\n",
    "        midfielders / 11,\n",
    "        forwards / 11], default=0.5)"
   ]
  },
  {
   "cell_type": "code",
   "execution_count": 23,
   "id": "6bf5e4e1-f12e-4a40-9b0e-27aba0f50bc8",
   "metadata": {
    "execution": {
     "iopub.execute_input": "2024-11-18T08:42:10.625311Z",
     "iopub.status.busy": "2024-11-18T08:42:10.625072Z",
     "iopub.status.idle": "2024-11-18T08:42:10.909072Z",
     "shell.execute_reply": "2024-11-18T08:42:10.908185Z",
     "shell.execute_reply.started": "2024-11-18T08:42:10.625283Z"
    },
    "tags": []
   },
   "outputs": [
    {
     "data": {
      "application/vnd.jupyter.widget-view+json": {
       "model_id": "40d5972f7bb74348ad7d3b4cec7fcff9",
       "version_major": 2,
       "version_minor": 0
      },
      "text/plain": [
       "VBox()"
      ]
     },
     "metadata": {},
     "output_type": "display_data"
    },
    {
     "data": {
      "application/vnd.jupyter.widget-view+json": {
       "model_id": "",
       "version_major": 2,
       "version_minor": 0
      },
      "text/plain": [
       "FloatProgress(value=0.0, bar_style='info', description='Progress:', layout=Layout(height='25px', width='50%'),…"
      ]
     },
     "metadata": {},
     "output_type": "display_data"
    }
   ],
   "source": [
    "# Competition type importance\n",
    "competition_importance = {\n",
    "    'international_cup': 1,  # Most Important\n",
    "    'domestic_league': 2,\n",
    "    'domestic_cup': 3,\n",
    "    'other': 4,             # Least Important\n",
    "}\n",
    "df['competition_importance'] = df['competition_type'].map(competition_importance)\n",
    "\n",
    "df['competition_importance'] = pd.Categorical(\n",
    "    df['competition_importance'],\n",
    "    categories=[1, 2, 3, 4],\n",
    "    ordered=True)"
   ]
  },
  {
   "cell_type": "markdown",
   "id": "bda5c33f-30d5-4cda-9232-33cd2488bb04",
   "metadata": {},
   "source": [
    "## Training Model"
   ]
  },
  {
   "cell_type": "code",
   "execution_count": 24,
   "id": "7b4bd4b0-84db-4841-a923-f33abd3bbea5",
   "metadata": {
    "execution": {
     "iopub.execute_input": "2024-11-18T08:42:29.131531Z",
     "iopub.status.busy": "2024-11-18T08:42:29.131188Z",
     "iopub.status.idle": "2024-11-18T08:42:31.442677Z",
     "shell.execute_reply": "2024-11-18T08:42:31.441927Z",
     "shell.execute_reply.started": "2024-11-18T08:42:29.131489Z"
    },
    "tags": []
   },
   "outputs": [
    {
     "data": {
      "application/vnd.jupyter.widget-view+json": {
       "model_id": "ce2377ea1c9f4fc0a0cd8ff6a67c43a8",
       "version_major": 2,
       "version_minor": 0
      },
      "text/plain": [
       "VBox()"
      ]
     },
     "metadata": {},
     "output_type": "display_data"
    },
    {
     "data": {
      "application/vnd.jupyter.widget-view+json": {
       "model_id": "",
       "version_major": 2,
       "version_minor": 0
      },
      "text/plain": [
       "FloatProgress(value=0.0, bar_style='info', description='Progress:', layout=Layout(height='25px', width='50%'),…"
      ]
     },
     "metadata": {},
     "output_type": "display_data"
    },
    {
     "name": "stdout",
     "output_type": "stream",
     "text": [
      "<class 'pandas.core.frame.DataFrame'>\n",
      "Index: 556749 entries, 315090 to 125690\n",
      "Data columns (total 52 columns):\n",
      " #   Column                   Non-Null Count   Dtype         \n",
      "---  ------                   --------------   -----         \n",
      " 0   game_id                  556749 non-null  object        \n",
      " 1   club_id                  556749 non-null  object        \n",
      " 2   player_id                556749 non-null  object        \n",
      " 3   player_name              556749 non-null  object        \n",
      " 4   starting_status          556749 non-null  object        \n",
      " 5   position                 556749 non-null  object        \n",
      " 6   team_captain             556749 non-null  bool          \n",
      " 7   minutes_played           556749 non-null  int32         \n",
      " 8   goals                    556749 non-null  float64       \n",
      " 9   assists                  556749 non-null  int32         \n",
      " 10  yellow_cards             556749 non-null  int32         \n",
      " 11  red_cards                556749 non-null  int32         \n",
      " 12  field_role               556749 non-null  object        \n",
      " 13  height_in_cm             556749 non-null  int32         \n",
      " 14  foot                     556749 non-null  object        \n",
      " 15  market_value_in_eur      556749 non-null  float32       \n",
      " 16  last_active_season       556749 non-null  int32         \n",
      " 17  competition_id           556749 non-null  object        \n",
      " 18  season                   556749 non-null  object        \n",
      " 19  competition_type         556749 non-null  object        \n",
      " 20  home_club_id             556749 non-null  object        \n",
      " 21  away_club_id             556749 non-null  object        \n",
      " 22  home_club_formation      556749 non-null  object        \n",
      " 23  away_club_formation      556749 non-null  object        \n",
      " 24  squad_size               556749 non-null  int32         \n",
      " 25  average_age              556749 non-null  float32       \n",
      " 26  hosting                  556749 non-null  object        \n",
      " 27  home_team_standings      556749 non-null  int32         \n",
      " 28  away_team_standings      556749 non-null  int32         \n",
      " 29  is_win                   556749 non-null  bool          \n",
      " 30  game_date_day            556749 non-null  int32         \n",
      " 31  game_date_month          556749 non-null  int32         \n",
      " 32  game_date_year           556749 non-null  int32         \n",
      " 33  date_of_birth_day        556749 non-null  int32         \n",
      " 34  date_of_birth_month      556749 non-null  int32         \n",
      " 35  date_of_birth_year       556749 non-null  int32         \n",
      " 36  game_date                556749 non-null  datetime64[ns]\n",
      " 37  total_minutes_played     556749 non-null  int32         \n",
      " 38  goals_per_game           556749 non-null  float64       \n",
      " 39  total_goals              556749 non-null  float64       \n",
      " 40  assists_per_game         556749 non-null  float64       \n",
      " 41  total_assists            556749 non-null  int32         \n",
      " 42  goal_contributions       556749 non-null  float64       \n",
      " 43  cards_per_game           556749 non-null  float64       \n",
      " 44  total_cards              556749 non-null  int32         \n",
      " 45  is_starting              556749 non-null  int64         \n",
      " 46  prev_starts_pct          556749 non-null  float64       \n",
      " 47  age                      556749 non-null  int64         \n",
      " 48  age_category             556749 non-null  category      \n",
      " 49  market_value_tier        556749 non-null  category      \n",
      " 50  competition_importance   556749 non-null  category      \n",
      " 51  formation_compatibility  556749 non-null  float64       \n",
      "dtypes: bool(2), category(3), datetime64[ns](1), float32(2), float64(8), int32(18), int64(2), object(16)\n",
      "memory usage: 164.1+ MB"
     ]
    }
   ],
   "source": [
    "df.info()"
   ]
  },
  {
   "cell_type": "code",
   "execution_count": 25,
   "id": "04fedfbb-2a53-47c9-8816-204e1388298b",
   "metadata": {
    "execution": {
     "iopub.execute_input": "2024-11-18T08:47:28.344810Z",
     "iopub.status.busy": "2024-11-18T08:47:28.344514Z",
     "iopub.status.idle": "2024-11-18T08:47:29.152420Z",
     "shell.execute_reply": "2024-11-18T08:47:29.150790Z",
     "shell.execute_reply.started": "2024-11-18T08:47:28.344773Z"
    },
    "tags": []
   },
   "outputs": [
    {
     "data": {
      "application/vnd.jupyter.widget-view+json": {
       "model_id": "1b527e42512343659e1007df48ff7b2a",
       "version_major": 2,
       "version_minor": 0
      },
      "text/plain": [
       "VBox()"
      ]
     },
     "metadata": {},
     "output_type": "display_data"
    },
    {
     "data": {
      "application/vnd.jupyter.widget-view+json": {
       "model_id": "",
       "version_major": 2,
       "version_minor": 0
      },
      "text/plain": [
       "FloatProgress(value=0.0, bar_style='info', description='Progress:', layout=Layout(height='25px', width='50%'),…"
      ]
     },
     "metadata": {},
     "output_type": "display_data"
    },
    {
     "name": "stdout",
     "output_type": "stream",
     "text": [
      "<class 'pandas.core.frame.DataFrame'>\n",
      "Index: 556749 entries, 315090 to 125690\n",
      "Data columns (total 24 columns):\n",
      " #   Column                   Non-Null Count   Dtype   \n",
      "---  ------                   --------------   -----   \n",
      " 0   team_captain             556749 non-null  bool    \n",
      " 1   minutes_played           556749 non-null  int32   \n",
      " 2   field_role               556749 non-null  object  \n",
      " 3   height_in_cm             556749 non-null  int32   \n",
      " 4   foot                     556749 non-null  object  \n",
      " 5   squad_size               556749 non-null  int32   \n",
      " 6   average_age              556749 non-null  float32 \n",
      " 7   hosting                  556749 non-null  object  \n",
      " 8   is_win                   556749 non-null  bool    \n",
      " 9   total_minutes_played     556749 non-null  int32   \n",
      " 10  goals_per_game           556749 non-null  float64 \n",
      " 11  total_goals              556749 non-null  float64 \n",
      " 12  assists_per_game         556749 non-null  float64 \n",
      " 13  total_assists            556749 non-null  int32   \n",
      " 14  goal_contributions       556749 non-null  float64 \n",
      " 15  cards_per_game           556749 non-null  float64 \n",
      " 16  total_cards              556749 non-null  int32   \n",
      " 17  prev_starts_pct          556749 non-null  float64 \n",
      " 18  age                      556749 non-null  int64   \n",
      " 19  age_category             556749 non-null  category\n",
      " 20  market_value_tier        556749 non-null  category\n",
      " 21  formation_compatibility  556749 non-null  float64 \n",
      " 22  competition_importance   556749 non-null  category\n",
      " 23  is_starting              556749 non-null  int64   \n",
      "dtypes: bool(2), category(3), float32(1), float64(7), int32(6), int64(2), object(3)\n",
      "memory usage: 72.7+ MB"
     ]
    }
   ],
   "source": [
    "# Select features for modeling\n",
    "features = [\n",
    "    'team_captain', 'minutes_played', 'field_role', 'height_in_cm', 'foot',\n",
    "    'squad_size', 'average_age', 'hosting', 'is_win', 'total_minutes_played',\n",
    "    'goals_per_game', 'total_goals', 'assists_per_game', 'total_assists', \n",
    "    'goal_contributions', 'cards_per_game', 'total_cards', 'prev_starts_pct', \n",
    "    'age', 'age_category', 'market_value_tier', 'formation_compatibility', \n",
    "    'competition_importance', 'is_starting'  # target variable\n",
    "]\n",
    "\n",
    "# Keep only the desired features\n",
    "df_model = df[features].copy()\n",
    "df_model.info()"
   ]
  },
  {
   "cell_type": "code",
   "execution_count": 28,
   "id": "609cfc91-5c8a-4e36-b15e-e520715287d0",
   "metadata": {
    "execution": {
     "iopub.execute_input": "2024-11-18T08:58:54.702383Z",
     "iopub.status.busy": "2024-11-18T08:58:54.702094Z",
     "iopub.status.idle": "2024-11-18T08:58:54.784037Z",
     "shell.execute_reply": "2024-11-18T08:58:54.783114Z",
     "shell.execute_reply.started": "2024-11-18T08:58:54.702343Z"
    },
    "tags": []
   },
   "outputs": [
    {
     "data": {
      "application/vnd.jupyter.widget-view+json": {
       "model_id": "a7c9a12d155b404ebb9f10224b8edc9c",
       "version_major": 2,
       "version_minor": 0
      },
      "text/plain": [
       "VBox()"
      ]
     },
     "metadata": {},
     "output_type": "display_data"
    },
    {
     "data": {
      "application/vnd.jupyter.widget-view+json": {
       "model_id": "",
       "version_major": 2,
       "version_minor": 0
      },
      "text/plain": [
       "FloatProgress(value=0.0, bar_style='info', description='Progress:', layout=Layout(height='25px', width='50%'),…"
      ]
     },
     "metadata": {},
     "output_type": "display_data"
    }
   ],
   "source": [
    "# Cast Int variables\n",
    "boolean_columns = ['total_goals', 'goal_contributions']\n",
    "for column in boolean_columns:\n",
    "    df_model[column] = df_model[column].astype(int)"
   ]
  },
  {
   "cell_type": "code",
   "execution_count": 36,
   "id": "75d2b902-9b07-42e2-999b-e0d8af8a5eb2",
   "metadata": {
    "execution": {
     "iopub.execute_input": "2024-11-18T09:12:16.496378Z",
     "iopub.status.busy": "2024-11-18T09:12:16.496040Z",
     "iopub.status.idle": "2024-11-18T09:12:19.801353Z",
     "shell.execute_reply": "2024-11-18T09:12:19.799990Z",
     "shell.execute_reply.started": "2024-11-18T09:12:16.496332Z"
    },
    "tags": []
   },
   "outputs": [
    {
     "data": {
      "application/vnd.jupyter.widget-view+json": {
       "model_id": "f2ce8fcb029e4b2e9250ee1c3c42e801",
       "version_major": 2,
       "version_minor": 0
      },
      "text/plain": [
       "VBox()"
      ]
     },
     "metadata": {},
     "output_type": "display_data"
    },
    {
     "data": {
      "application/vnd.jupyter.widget-view+json": {
       "model_id": "",
       "version_major": 2,
       "version_minor": 0
      },
      "text/plain": [
       "FloatProgress(value=0.0, bar_style='info', description='Progress:', layout=Layout(height='25px', width='50%'),…"
      ]
     },
     "metadata": {},
     "output_type": "display_data"
    }
   ],
   "source": [
    "# Encode Categorical Variables \n",
    "categorical_columns = ['team_captain', 'field_role', 'foot', 'hosting', 'is_win', 'age_category',\n",
    "                       'market_value_tier', 'competition_importance', 'is_starting']\n",
    "\n",
    "encoder = LabelEncoder()\n",
    "for column in categorical_columns:\n",
    "    df_model[column] = encoder.fit_transform(df_model[column].astype(str))"
   ]
  },
  {
   "cell_type": "code",
   "execution_count": 37,
   "id": "4100da35-ac8a-462a-af8c-fec48b145c5f",
   "metadata": {
    "execution": {
     "iopub.execute_input": "2024-11-18T09:12:30.971999Z",
     "iopub.status.busy": "2024-11-18T09:12:30.971760Z",
     "iopub.status.idle": "2024-11-18T09:12:31.046118Z",
     "shell.execute_reply": "2024-11-18T09:12:31.045168Z",
     "shell.execute_reply.started": "2024-11-18T09:12:30.971972Z"
    },
    "tags": []
   },
   "outputs": [
    {
     "data": {
      "application/vnd.jupyter.widget-view+json": {
       "model_id": "1611a0fc171648dab83023c676ff0755",
       "version_major": 2,
       "version_minor": 0
      },
      "text/plain": [
       "VBox()"
      ]
     },
     "metadata": {},
     "output_type": "display_data"
    },
    {
     "data": {
      "application/vnd.jupyter.widget-view+json": {
       "model_id": "",
       "version_major": 2,
       "version_minor": 0
      },
      "text/plain": [
       "FloatProgress(value=0.0, bar_style='info', description='Progress:', layout=Layout(height='25px', width='50%'),…"
      ]
     },
     "metadata": {},
     "output_type": "display_data"
    },
    {
     "name": "stdout",
     "output_type": "stream",
     "text": [
      "<class 'pandas.core.frame.DataFrame'>\n",
      "Index: 556749 entries, 315090 to 125690\n",
      "Data columns (total 24 columns):\n",
      " #   Column                   Non-Null Count   Dtype  \n",
      "---  ------                   --------------   -----  \n",
      " 0   team_captain             556749 non-null  int64  \n",
      " 1   minutes_played           556749 non-null  int32  \n",
      " 2   field_role               556749 non-null  int64  \n",
      " 3   height_in_cm             556749 non-null  int32  \n",
      " 4   foot                     556749 non-null  int64  \n",
      " 5   squad_size               556749 non-null  int32  \n",
      " 6   average_age              556749 non-null  float32\n",
      " 7   hosting                  556749 non-null  int64  \n",
      " 8   is_win                   556749 non-null  int64  \n",
      " 9   total_minutes_played     556749 non-null  int32  \n",
      " 10  goals_per_game           556749 non-null  float64\n",
      " 11  total_goals              556749 non-null  int64  \n",
      " 12  assists_per_game         556749 non-null  float64\n",
      " 13  total_assists            556749 non-null  int32  \n",
      " 14  goal_contributions       556749 non-null  int64  \n",
      " 15  cards_per_game           556749 non-null  float64\n",
      " 16  total_cards              556749 non-null  int32  \n",
      " 17  prev_starts_pct          556749 non-null  float64\n",
      " 18  age                      556749 non-null  int64  \n",
      " 19  age_category             556749 non-null  int64  \n",
      " 20  market_value_tier        556749 non-null  int64  \n",
      " 21  formation_compatibility  556749 non-null  float64\n",
      " 22  competition_importance   556749 non-null  int64  \n",
      " 23  is_starting              556749 non-null  int64  \n",
      "dtypes: float32(1), float64(5), int32(6), int64(12)\n",
      "memory usage: 91.3 MB"
     ]
    }
   ],
   "source": [
    "df_model.info()"
   ]
  },
  {
   "cell_type": "code",
   "execution_count": 38,
   "id": "73a10f92-cf3f-4470-b1aa-3851620831fb",
   "metadata": {
    "execution": {
     "iopub.execute_input": "2024-11-18T09:13:10.995467Z",
     "iopub.status.busy": "2024-11-18T09:13:10.995219Z",
     "iopub.status.idle": "2024-11-18T09:13:11.273134Z",
     "shell.execute_reply": "2024-11-18T09:13:11.272230Z",
     "shell.execute_reply.started": "2024-11-18T09:13:10.995439Z"
    },
    "tags": []
   },
   "outputs": [
    {
     "data": {
      "application/vnd.jupyter.widget-view+json": {
       "model_id": "b3d86e3761894c6eb30aa904796340bb",
       "version_major": 2,
       "version_minor": 0
      },
      "text/plain": [
       "VBox()"
      ]
     },
     "metadata": {},
     "output_type": "display_data"
    },
    {
     "data": {
      "application/vnd.jupyter.widget-view+json": {
       "model_id": "",
       "version_major": 2,
       "version_minor": 0
      },
      "text/plain": [
       "FloatProgress(value=0.0, bar_style='info', description='Progress:', layout=Layout(height='25px', width='50%'),…"
      ]
     },
     "metadata": {},
     "output_type": "display_data"
    }
   ],
   "source": [
    "# Split features and target\n",
    "X = df_model.drop('is_starting', axis=1)\n",
    "y = df_model['is_starting']"
   ]
  },
  {
   "cell_type": "code",
   "execution_count": 40,
   "id": "0e414688-8ff8-4d10-b0c4-ca9235c610b3",
   "metadata": {
    "execution": {
     "iopub.execute_input": "2024-11-18T09:17:22.673756Z",
     "iopub.status.busy": "2024-11-18T09:17:22.672948Z",
     "iopub.status.idle": "2024-11-18T09:17:23.439661Z",
     "shell.execute_reply": "2024-11-18T09:17:23.438772Z",
     "shell.execute_reply.started": "2024-11-18T09:17:22.673720Z"
    },
    "tags": []
   },
   "outputs": [
    {
     "data": {
      "application/vnd.jupyter.widget-view+json": {
       "model_id": "8f0336a64b4840999d6098ffb4b0d3f3",
       "version_major": 2,
       "version_minor": 0
      },
      "text/plain": [
       "VBox()"
      ]
     },
     "metadata": {},
     "output_type": "display_data"
    },
    {
     "data": {
      "application/vnd.jupyter.widget-view+json": {
       "model_id": "",
       "version_major": 2,
       "version_minor": 0
      },
      "text/plain": [
       "FloatProgress(value=0.0, bar_style='info', description='Progress:', layout=Layout(height='25px', width='50%'),…"
      ]
     },
     "metadata": {},
     "output_type": "display_data"
    }
   ],
   "source": [
    "# Split the data\n",
    "X_train, X_test, y_train, y_test = train_test_split(X, y, test_size=0.2, random_state=42, stratify=y)"
   ]
  },
  {
   "cell_type": "code",
   "execution_count": 41,
   "id": "b2f6190c-9a3e-4ddb-adda-e0263dc990a1",
   "metadata": {
    "execution": {
     "iopub.execute_input": "2024-11-18T09:17:46.537311Z",
     "iopub.status.busy": "2024-11-18T09:17:46.537069Z",
     "iopub.status.idle": "2024-11-18T09:17:46.594587Z",
     "shell.execute_reply": "2024-11-18T09:17:46.593840Z",
     "shell.execute_reply.started": "2024-11-18T09:17:46.537282Z"
    },
    "tags": []
   },
   "outputs": [
    {
     "data": {
      "application/vnd.jupyter.widget-view+json": {
       "model_id": "b089f7493dcf41d3b475cc967584b46a",
       "version_major": 2,
       "version_minor": 0
      },
      "text/plain": [
       "VBox()"
      ]
     },
     "metadata": {},
     "output_type": "display_data"
    },
    {
     "data": {
      "application/vnd.jupyter.widget-view+json": {
       "model_id": "",
       "version_major": 2,
       "version_minor": 0
      },
      "text/plain": [
       "FloatProgress(value=0.0, bar_style='info', description='Progress:', layout=Layout(height='25px', width='50%'),…"
      ]
     },
     "metadata": {},
     "output_type": "display_data"
    }
   ],
   "source": [
    "# Initialize models with more trees and balanced class weights\n",
    "rf_params = {\n",
    "    'n_estimators': 100,\n",
    "    'max_depth': 15,\n",
    "    'min_samples_split': 5,\n",
    "    'min_samples_leaf': 2,\n",
    "    'class_weight': 'balanced',\n",
    "    'random_state': 42\n",
    "}"
   ]
  },
  {
   "cell_type": "code",
   "execution_count": 67,
   "id": "11bd1f1d-305e-42d5-b34b-be146a9ab03c",
   "metadata": {
    "execution": {
     "iopub.execute_input": "2024-11-18T10:03:42.342204Z",
     "iopub.status.busy": "2024-11-18T10:03:42.341936Z",
     "iopub.status.idle": "2024-11-18T10:07:34.421373Z",
     "shell.execute_reply": "2024-11-18T10:07:34.420579Z",
     "shell.execute_reply.started": "2024-11-18T10:03:42.342175Z"
    },
    "tags": []
   },
   "outputs": [
    {
     "data": {
      "application/vnd.jupyter.widget-view+json": {
       "model_id": "5b7de9f9ee534f928b553066a4c2d283",
       "version_major": 2,
       "version_minor": 0
      },
      "text/plain": [
       "VBox()"
      ]
     },
     "metadata": {},
     "output_type": "display_data"
    },
    {
     "data": {
      "application/vnd.jupyter.widget-view+json": {
       "model_id": "",
       "version_major": 2,
       "version_minor": 0
      },
      "text/plain": [
       "FloatProgress(value=0.0, bar_style='info', description='Progress:', layout=Layout(height='25px', width='50%'),…"
      ]
     },
     "metadata": {},
     "output_type": "display_data"
    }
   ],
   "source": [
    "# Train and evaluate without SMOTE\n",
    "rf_no_smote = RandomForestClassifier(**rf_params)\n",
    "cv_scores_no_smote = cross_val_score(rf_no_smote, X_train, y_train, cv=5, scoring='balanced_accuracy')\n",
    "rf_no_smote.fit(X_train, y_train)\n",
    "y_pred_no_smote = rf_no_smote.predict(X_test)"
   ]
  },
  {
   "cell_type": "code",
   "execution_count": 68,
   "id": "6acffae1-1a4e-463b-acfb-735411012b5f",
   "metadata": {
    "execution": {
     "iopub.execute_input": "2024-11-18T10:07:50.892783Z",
     "iopub.status.busy": "2024-11-18T10:07:50.892558Z",
     "iopub.status.idle": "2024-11-18T10:07:51.179694Z",
     "shell.execute_reply": "2024-11-18T10:07:51.179019Z",
     "shell.execute_reply.started": "2024-11-18T10:07:50.892757Z"
    },
    "tags": []
   },
   "outputs": [
    {
     "data": {
      "application/vnd.jupyter.widget-view+json": {
       "model_id": "247ab4a962dd454f84136f681887c0cc",
       "version_major": 2,
       "version_minor": 0
      },
      "text/plain": [
       "VBox()"
      ]
     },
     "metadata": {},
     "output_type": "display_data"
    },
    {
     "data": {
      "application/vnd.jupyter.widget-view+json": {
       "model_id": "",
       "version_major": 2,
       "version_minor": 0
      },
      "text/plain": [
       "FloatProgress(value=0.0, bar_style='info', description='Progress:', layout=Layout(height='25px', width='50%'),…"
      ]
     },
     "metadata": {},
     "output_type": "display_data"
    },
    {
     "name": "stdout",
     "output_type": "stream",
     "text": [
      "Without SMOTE:\n",
      "Cross-validation balanced accuracy scores: [0.93939609 0.93972641 0.93805405 0.93957929 0.9392188 ]\n",
      "Average CV balanced accuracy score: 0.9391949298273113\n",
      "\n",
      "Classification Report:\n",
      "              precision    recall  f1-score   support\n",
      "\n",
      "           0       0.86      0.98      0.91     42940\n",
      "           1       0.99      0.90      0.94     68410\n",
      "\n",
      "    accuracy                           0.93    111350\n",
      "   macro avg       0.92      0.94      0.93    111350\n",
      "weighted avg       0.94      0.93      0.93    111350"
     ]
    }
   ],
   "source": [
    "# Print results\n",
    "print(\"Without SMOTE:\")\n",
    "print(\"Cross-validation balanced accuracy scores:\", cv_scores_no_smote)\n",
    "print(\"Average CV balanced accuracy score:\", cv_scores_no_smote.mean())\n",
    "print(\"\\nClassification Report:\")\n",
    "print(classification_report(y_test, y_pred_no_smote))"
   ]
  },
  {
   "cell_type": "code",
   "execution_count": 69,
   "id": "7511b147-584f-4220-a529-fc39648485cc",
   "metadata": {
    "execution": {
     "iopub.execute_input": "2024-11-18T10:08:10.424846Z",
     "iopub.status.busy": "2024-11-18T10:08:10.424604Z",
     "iopub.status.idle": "2024-11-18T10:15:55.289447Z",
     "shell.execute_reply": "2024-11-18T10:15:55.288881Z",
     "shell.execute_reply.started": "2024-11-18T10:08:10.424818Z"
    },
    "tags": []
   },
   "outputs": [
    {
     "data": {
      "application/vnd.jupyter.widget-view+json": {
       "model_id": "025d54da3151458cb589c9ab759d46fb",
       "version_major": 2,
       "version_minor": 0
      },
      "text/plain": [
       "VBox()"
      ]
     },
     "metadata": {},
     "output_type": "display_data"
    },
    {
     "data": {
      "application/vnd.jupyter.widget-view+json": {
       "model_id": "",
       "version_major": 2,
       "version_minor": 0
      },
      "text/plain": [
       "FloatProgress(value=0.0, bar_style='info', description='Progress:', layout=Layout(height='25px', width='50%'),…"
      ]
     },
     "metadata": {},
     "output_type": "display_data"
    }
   ],
   "source": [
    "# Train and evaluate with SMOTE\n",
    "smote = SMOTE(random_state=42)\n",
    "X_train_smote, y_train_smote = smote.fit_resample(X_train, y_train)\n",
    "rf_smote = RandomForestClassifier(**rf_params)\n",
    "cv_scores_smote = cross_val_score(rf_smote, X_train_smote, y_train_smote, cv=5, scoring='balanced_accuracy')\n",
    "rf_smote.fit(X_train_smote, y_train_smote)\n",
    "y_pred_smote = rf_smote.predict(X_test)"
   ]
  },
  {
   "cell_type": "code",
   "execution_count": 70,
   "id": "3f7fefc6-c016-4058-b557-d1575cf48f4f",
   "metadata": {
    "execution": {
     "iopub.execute_input": "2024-11-18T10:16:04.455214Z",
     "iopub.status.busy": "2024-11-18T10:16:04.454972Z",
     "iopub.status.idle": "2024-11-18T10:16:04.697217Z",
     "shell.execute_reply": "2024-11-18T10:16:04.696258Z",
     "shell.execute_reply.started": "2024-11-18T10:16:04.455186Z"
    },
    "tags": []
   },
   "outputs": [
    {
     "data": {
      "application/vnd.jupyter.widget-view+json": {
       "model_id": "0402e49eccc84cad8460ca843812eef7",
       "version_major": 2,
       "version_minor": 0
      },
      "text/plain": [
       "VBox()"
      ]
     },
     "metadata": {},
     "output_type": "display_data"
    },
    {
     "data": {
      "application/vnd.jupyter.widget-view+json": {
       "model_id": "",
       "version_major": 2,
       "version_minor": 0
      },
      "text/plain": [
       "FloatProgress(value=0.0, bar_style='info', description='Progress:', layout=Layout(height='25px', width='50%'),…"
      ]
     },
     "metadata": {},
     "output_type": "display_data"
    },
    {
     "name": "stdout",
     "output_type": "stream",
     "text": [
      "With SMOTE:\n",
      "Cross-validation balanced accuracy scores: [0.93449498 0.93514331 0.93593773 0.94996163 0.9500804 ]\n",
      "Average CV balanced accuracy score: 0.941123608250242\n",
      "\n",
      "Classification Report:\n",
      "              precision    recall  f1-score   support\n",
      "\n",
      "           0       0.87      0.96      0.91     42940\n",
      "           1       0.97      0.91      0.94     68410\n",
      "\n",
      "    accuracy                           0.93    111350\n",
      "   macro avg       0.92      0.94      0.93    111350\n",
      "weighted avg       0.93      0.93      0.93    111350"
     ]
    }
   ],
   "source": [
    "print(\"With SMOTE:\")\n",
    "print(\"Cross-validation balanced accuracy scores:\", cv_scores_smote)\n",
    "print(\"Average CV balanced accuracy score:\", cv_scores_smote.mean())\n",
    "print(\"\\nClassification Report:\")\n",
    "print(classification_report(y_test, y_pred_smote))"
   ]
  },
  {
   "cell_type": "code",
   "execution_count": 71,
   "id": "910a3dbc-bc7b-4a1f-ad74-9abd4ee5043b",
   "metadata": {
    "execution": {
     "iopub.execute_input": "2024-11-18T10:16:29.987630Z",
     "iopub.status.busy": "2024-11-18T10:16:29.987302Z",
     "iopub.status.idle": "2024-11-18T10:16:30.839771Z",
     "shell.execute_reply": "2024-11-18T10:16:30.836139Z",
     "shell.execute_reply.started": "2024-11-18T10:16:29.987585Z"
    },
    "tags": []
   },
   "outputs": [
    {
     "data": {
      "application/vnd.jupyter.widget-view+json": {
       "model_id": "995a89807eb54f6fa0a7d7e8fb35c862",
       "version_major": 2,
       "version_minor": 0
      },
      "text/plain": [
       "VBox()"
      ]
     },
     "metadata": {},
     "output_type": "display_data"
    },
    {
     "data": {
      "application/vnd.jupyter.widget-view+json": {
       "model_id": "",
       "version_major": 2,
       "version_minor": 0
      },
      "text/plain": [
       "FloatProgress(value=0.0, bar_style='info', description='Progress:', layout=Layout(height='25px', width='50%'),…"
      ]
     },
     "metadata": {},
     "output_type": "display_data"
    },
    {
     "name": "stdout",
     "output_type": "stream",
     "text": [
      "Class distribution before SMOTE:\n",
      "is_starting\n",
      "1    273641\n",
      "0    171758\n",
      "Name: count, dtype: int64\n",
      "\n",
      "Class distribution after SMOTE:\n",
      "is_starting\n",
      "1    273641\n",
      "0    273641\n",
      "Name: count, dtype: int64"
     ]
    }
   ],
   "source": [
    "# Create a figure with two subplots side by side\n",
    "plt.figure(figsize=(15, 6))\n",
    "fig, (ax1, ax2) = plt.subplots(1, 2, figsize=(15, 6))\n",
    "\n",
    "# Plot original class distribution\n",
    "original_dist = pd.Series(y_train).value_counts()\n",
    "sns.barplot(x=original_dist.index, y=original_dist.values, ax=ax1)\n",
    "ax1.set_title('Original Distribution (Before Balancing)')\n",
    "ax1.set_xlabel('Starting Status (0=Substitute, 1=Starting)')\n",
    "ax1.set_ylabel('Count')\n",
    "\n",
    "# Plot SMOTE-balanced class distribution\n",
    "smote_dist = pd.Series(y_train_smote).value_counts()\n",
    "sns.barplot(x=smote_dist.index, y=smote_dist.values, ax=ax2)\n",
    "ax2.set_title('Class Distribution After SMOTE')\n",
    "ax2.set_xlabel('Starting Status (0=Substitute, 1=Starting)')\n",
    "ax2.set_ylabel('Count')\n",
    "\n",
    "plt.tight_layout()\n",
    "\n",
    "# Save the plot\n",
    "buffer = io.BytesIO()\n",
    "plt.savefig(buffer, format='png', dpi=300, bbox_inches='tight')\n",
    "buffer.seek(0)\n",
    "img_data = buffer.getvalue()\n",
    "\n",
    "s3_client = boto3.client('s3')\n",
    "s3_client.put_object(\n",
    "    Body=img_data,\n",
    "    Bucket=\"final-project-gael-mota\",\n",
    "    Key=\"visualizations/ClassBalanceDistribution.png\",\n",
    "    ContentType='image/png'\n",
    ")\n",
    "\n",
    "# Print the actual numbers\n",
    "print(\"Class distribution before SMOTE:\")\n",
    "print(original_dist)\n",
    "print(\"\\nClass distribution after SMOTE:\")\n",
    "print(smote_dist)"
   ]
  },
  {
   "cell_type": "code",
   "execution_count": 72,
   "id": "90f380a1-ed32-441b-b946-452029f47eca",
   "metadata": {
    "execution": {
     "iopub.execute_input": "2024-11-18T10:16:34.058536Z",
     "iopub.status.busy": "2024-11-18T10:16:34.058214Z",
     "iopub.status.idle": "2024-11-18T10:16:36.393495Z",
     "shell.execute_reply": "2024-11-18T10:16:36.392759Z",
     "shell.execute_reply.started": "2024-11-18T10:16:34.058504Z"
    },
    "tags": []
   },
   "outputs": [
    {
     "data": {
      "application/vnd.jupyter.widget-view+json": {
       "model_id": "81e2b00c5479427a8162a07db7621b98",
       "version_major": 2,
       "version_minor": 0
      },
      "text/plain": [
       "VBox()"
      ]
     },
     "metadata": {},
     "output_type": "display_data"
    },
    {
     "data": {
      "application/vnd.jupyter.widget-view+json": {
       "model_id": "",
       "version_major": 2,
       "version_minor": 0
      },
      "text/plain": [
       "FloatProgress(value=0.0, bar_style='info', description='Progress:', layout=Layout(height='25px', width='50%'),…"
      ]
     },
     "metadata": {},
     "output_type": "display_data"
    }
   ],
   "source": [
    "# Create figure for side-by-side comparison\n",
    "plt.figure(figsize=(20, 8))\n",
    "fig, (ax1, ax2) = plt.subplots(1, 2, figsize=(20, 8))\n",
    "\n",
    "# Prepare feature importance data for both models\n",
    "importance_no_smote = pd.DataFrame({\n",
    "    'feature': X.columns,\n",
    "    'importance': rf_no_smote.feature_importances_\n",
    "}).sort_values('importance', ascending=True)  # Ascending for horizontal bars\n",
    "\n",
    "importance_smote = pd.DataFrame({\n",
    "    'feature': X.columns,\n",
    "    'importance': rf_smote.feature_importances_\n",
    "}).sort_values('importance', ascending=True)  # Ascending for horizontal bars\n",
    "\n",
    "# Plot feature importance without SMOTE\n",
    "sns.barplot(data=importance_no_smote, x='importance', y='feature', ax=ax1)\n",
    "ax1.set_title('Feature Importance (Without SMOTE)')\n",
    "ax1.set_xlabel('Importance Score')\n",
    "ax1.set_ylabel('Features')\n",
    "\n",
    "# Plot feature importance with SMOTE\n",
    "sns.barplot(data=importance_smote, x='importance', y='feature', ax=ax2)\n",
    "ax2.set_title('Feature Importance (With SMOTE)')\n",
    "ax2.set_xlabel('Importance Score')\n",
    "ax2.set_ylabel('Features')\n",
    "\n",
    "plt.tight_layout()\n",
    "\n",
    "# Save the plot\n",
    "buffer = io.BytesIO()\n",
    "plt.savefig(buffer, format='png', dpi=300, bbox_inches='tight')\n",
    "buffer.seek(0)\n",
    "img_data = buffer.getvalue()\n",
    "\n",
    "s3_client = boto3.client('s3')\n",
    "s3_client.put_object(\n",
    "    Body=img_data,\n",
    "    Bucket=\"final-project-gael-mota\",\n",
    "    Key=\"visualizations/FeatureImportance_Comparison.png\",\n",
    "    ContentType='image/png'\n",
    ")\n",
    "plt.close()"
   ]
  },
  {
   "cell_type": "code",
   "execution_count": 73,
   "id": "65b57d5f-6ac8-49ec-bdc5-17408f8594b1",
   "metadata": {
    "execution": {
     "iopub.execute_input": "2024-11-18T10:16:37.771691Z",
     "iopub.status.busy": "2024-11-18T10:16:37.771450Z",
     "iopub.status.idle": "2024-11-18T10:16:38.053555Z",
     "shell.execute_reply": "2024-11-18T10:16:38.052674Z",
     "shell.execute_reply.started": "2024-11-18T10:16:37.771662Z"
    },
    "tags": []
   },
   "outputs": [
    {
     "data": {
      "application/vnd.jupyter.widget-view+json": {
       "model_id": "b382d45331c241f1a417a33b860dbc14",
       "version_major": 2,
       "version_minor": 0
      },
      "text/plain": [
       "VBox()"
      ]
     },
     "metadata": {},
     "output_type": "display_data"
    },
    {
     "data": {
      "application/vnd.jupyter.widget-view+json": {
       "model_id": "",
       "version_major": 2,
       "version_minor": 0
      },
      "text/plain": [
       "FloatProgress(value=0.0, bar_style='info', description='Progress:', layout=Layout(height='25px', width='50%'),…"
      ]
     },
     "metadata": {},
     "output_type": "display_data"
    },
    {
     "name": "stdout",
     "output_type": "stream",
     "text": [
      "Feature Importance Comparison:\n",
      "\n",
      "Positive Rank Change means feature became more important after SMOTE\n",
      "Negative Rank Change means feature became less important after SMOTE\n",
      "\n",
      "                 Feature Importance_No_SMOTE  Rank_No_SMOTE Importance_SMOTE  Rank_SMOTE  Rank_Change\n",
      "         minutes_played              0.6281              1           0.5860           1            0\n",
      "        prev_starts_pct              0.1655              2           0.2187           2            0\n",
      "         cards_per_game              0.0359              3           0.0334           3            0\n",
      "     goal_contributions              0.0225              4           0.0296           4            0\n",
      "         goals_per_game              0.0176              5           0.0152           5            0\n",
      "            total_cards              0.0164              6           0.0134           6            0\n",
      "   total_minutes_played              0.0136              7           0.0121           8           -1\n",
      "           team_captain              0.0134              8           0.0117           9           -1\n",
      "       assists_per_game              0.0127              9           0.0122           7            2\n",
      "                    age              0.0107             10           0.0117          10            0\n",
      "            total_goals              0.0105             11           0.0081          13           -2\n",
      "          total_assists              0.0102             12           0.0090          11            1\n",
      "             field_role              0.0082             13           0.0079          14           -1\n",
      "formation_compatibility              0.0072             14           0.0088          12            2\n",
      "           age_category              0.0069             15           0.0038          16           -1\n",
      " competition_importance              0.0049             16           0.0064          15            1\n",
      "           height_in_cm              0.0046             17           0.0035          17            0\n",
      "            average_age              0.0043             18           0.0034          18            0\n",
      "             squad_size              0.0025             19           0.0019          19            0\n",
      "      market_value_tier              0.0018             20           0.0013          20            0\n",
      "                 is_win              0.0012             21           0.0006          22           -1\n",
      "                   foot              0.0007             22           0.0005          23           -1\n",
      "                hosting              0.0005             23           0.0009          21            2"
     ]
    }
   ],
   "source": [
    "# Create DataFrames for both models\n",
    "importance_no_smote_df = pd.DataFrame({\n",
    "    'Feature': X.columns,\n",
    "    'Importance_No_SMOTE': rf_no_smote.feature_importances_\n",
    "}).sort_values('Importance_No_SMOTE', ascending=False)\n",
    "\n",
    "importance_smote_df = pd.DataFrame({\n",
    "    'Feature': X.columns,\n",
    "    'Importance_SMOTE': rf_smote.feature_importances_\n",
    "}).sort_values('Importance_SMOTE', ascending=False)\n",
    "\n",
    "# Merge the two DataFrames\n",
    "comparison_df = pd.merge(\n",
    "    importance_no_smote_df, \n",
    "    importance_smote_df, \n",
    "    on='Feature', \n",
    "    suffixes=('_No_SMOTE', '_SMOTE')\n",
    ")\n",
    "\n",
    "# Calculate ranks (using method='min' to get integer ranks)\n",
    "comparison_df['Rank_No_SMOTE'] = range(1, len(comparison_df) + 1)\n",
    "comparison_df['Rank_SMOTE'] = comparison_df['Importance_SMOTE'].rank(ascending=False, method='min').astype(int)\n",
    "comparison_df['Rank_Change'] = comparison_df['Rank_No_SMOTE'] - comparison_df['Rank_SMOTE']\n",
    "\n",
    "# Format importance scores to 4 decimal places\n",
    "comparison_df['Importance_No_SMOTE'] = comparison_df['Importance_No_SMOTE'].map('{:.4f}'.format)\n",
    "comparison_df['Importance_SMOTE'] = comparison_df['Importance_SMOTE'].map('{:.4f}'.format)\n",
    "\n",
    "# Reorder columns for better readability\n",
    "comparison_df = comparison_df[[\n",
    "    'Feature', \n",
    "    'Importance_No_SMOTE', \n",
    "    'Rank_No_SMOTE',\n",
    "    'Importance_SMOTE', \n",
    "    'Rank_SMOTE',\n",
    "    'Rank_Change'\n",
    "]]\n",
    "\n",
    "print(\"Feature Importance Comparison:\")\n",
    "print(\"\\nPositive Rank Change means feature became more important after SMOTE\")\n",
    "print(\"Negative Rank Change means feature became less important after SMOTE\")\n",
    "print(\"\\n\", comparison_df.to_string(index=False))"
   ]
  },
  {
   "cell_type": "code",
   "execution_count": 74,
   "id": "6766899b-95e4-4bf1-890b-45b22332f5e8",
   "metadata": {
    "execution": {
     "iopub.execute_input": "2024-11-18T10:16:58.306221Z",
     "iopub.status.busy": "2024-11-18T10:16:58.305972Z",
     "iopub.status.idle": "2024-11-18T10:16:59.586712Z",
     "shell.execute_reply": "2024-11-18T10:16:59.585948Z",
     "shell.execute_reply.started": "2024-11-18T10:16:58.306192Z"
    },
    "tags": []
   },
   "outputs": [
    {
     "data": {
      "application/vnd.jupyter.widget-view+json": {
       "model_id": "7f3c245596b24c63a4966a563b328faa",
       "version_major": 2,
       "version_minor": 0
      },
      "text/plain": [
       "VBox()"
      ]
     },
     "metadata": {},
     "output_type": "display_data"
    },
    {
     "data": {
      "application/vnd.jupyter.widget-view+json": {
       "model_id": "",
       "version_major": 2,
       "version_minor": 0
      },
      "text/plain": [
       "FloatProgress(value=0.0, bar_style='info', description='Progress:', layout=Layout(height='25px', width='50%'),…"
      ]
     },
     "metadata": {},
     "output_type": "display_data"
    }
   ],
   "source": [
    "# Plot confusion matrices\n",
    "plt.figure(figsize=(15, 6))\n",
    "fig, (ax1, ax2) = plt.subplots(1, 2, figsize=(15, 6))\n",
    "# Without SMOTE\n",
    "cm_no_smote = confusion_matrix(y_test, y_pred_no_smote)\n",
    "sns.heatmap(cm_no_smote, annot=True, fmt='d', cmap='Blues', ax=ax1)\n",
    "ax1.set_title('Confusion Matrix - Without SMOTE')\n",
    "ax1.set_ylabel('True Label (0=Substitute, 1=Starting)')\n",
    "ax1.set_xlabel('Predicted Label (0=Substitute, 1=Starting)')\n",
    "\n",
    "# With SMOTE\n",
    "cm_smote = confusion_matrix(y_test, y_pred_smote)\n",
    "sns.heatmap(cm_smote, annot=True, fmt='d', cmap='Blues', ax=ax2)\n",
    "ax2.set_title('Confusion Matrix - With SMOTE')\n",
    "ax2.set_ylabel('True Label (0=Substitute, 1=Starting)')\n",
    "ax2.set_xlabel('Predicted Label (0=Substitute, 1=Starting)')\n",
    "\n",
    "plt.tight_layout()\n",
    "\n",
    "# Save the confusion matrices plot\n",
    "buffer = io.BytesIO()\n",
    "plt.savefig(buffer, format='png', dpi=300, bbox_inches='tight')\n",
    "buffer.seek(0)\n",
    "img_data = buffer.getvalue()\n",
    "\n",
    "s3_client.put_object(\n",
    "    Body=img_data,\n",
    "    Bucket=\"final-project-gael-mota\",\n",
    "    Key=\"visualizations/ConfusionMatrices_Updated.png\",\n",
    "    ContentType='image/png'\n",
    ")\n",
    "plt.close()"
   ]
  },
  {
   "cell_type": "code",
   "execution_count": null,
   "id": "525ca4dc-717a-422b-add0-55a2b85ee262",
   "metadata": {},
   "outputs": [],
   "source": []
  }
 ],
 "metadata": {
  "kernelspec": {
   "display_name": "PySpark",
   "language": "python",
   "name": "pysparkkernel"
  },
  "language_info": {
   "codemirror_mode": {
    "name": "python",
    "version": 3
   },
   "file_extension": ".py",
   "mimetype": "text/x-python",
   "name": "pyspark",
   "pygments_lexer": "python3"
  }
 },
 "nbformat": 4,
 "nbformat_minor": 5
}
